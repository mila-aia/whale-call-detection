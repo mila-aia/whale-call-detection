{
 "cells": [
  {
   "attachments": {},
   "cell_type": "markdown",
   "metadata": {},
   "source": [
    "### Table of Contents\n",
    "\n",
    "This notebook contains the code to load, preprocess, and explore the labeled whale call detection dataset\n",
    "\n",
    "* [1. Load data](#loaddata)\n",
    "* [2. Stats of raw data](#stats)\n",
    "    * [Type of files](#typefiles)\n",
    "    * [Number of file per station](#stationfiles)\n",
    "* [3. Visualy explore data](#vizexp)\n",
    "    * [Obspy](#obspy)\n",
    "    * [Pysmo](#pysmo)\n"
   ]
  },
  {
   "attachments": {},
   "cell_type": "markdown",
   "metadata": {},
   "source": [
    "# Load data <a class=\"anchor\" id=\"loaddata\"></a>"
   ]
  },
  {
   "cell_type": "code",
   "execution_count": null,
   "metadata": {},
   "outputs": [],
   "source": [
    "import glob\n",
    "import pandas as pd\n",
    "import random\n",
    "from collections import Counter\n",
    "\n",
    "file_directory = '/network/projects/aia/whale_call'\n",
    "list_files = glob.glob(file_directory+'/*/*.SAC')"
   ]
  },
  {
   "attachments": {},
   "cell_type": "markdown",
   "metadata": {},
   "source": [
    "# Visual exploration <a class=\"anchor\" id=\"vizexp\"></a>"
   ]
  },
  {
   "attachments": {},
   "cell_type": "markdown",
   "metadata": {},
   "source": [
    "#### Load labeled data"
   ]
  },
  {
   "cell_type": "code",
   "execution_count": null,
   "metadata": {},
   "outputs": [],
   "source": [
    "WHALE_TYPE = 'bw' # fw bw"
   ]
  },
  {
   "cell_type": "code",
   "execution_count": null,
   "metadata": {},
   "outputs": [],
   "source": [
    "label_d = pd.read_csv('data/'+WHALE_TYPE+'c_preprocessed.csv')\n",
    "print(\"Total number of Whale detection:\",label_d.detection_id.nunique())"
   ]
  },
  {
   "attachments": {},
   "cell_type": "markdown",
   "metadata": {},
   "source": [
    "##### Select random detection"
   ]
  },
  {
   "cell_type": "code",
   "execution_count": null,
   "metadata": {},
   "outputs": [],
   "source": [
    "detection = label_d[label_d.detection_id == random.choice(label_d.detection_id.unique())]\n",
    "detection_id = detection['detection_id'].max()\n",
    "date = detection['date'].max()\n",
    "datetime_start = detection['datetime_start'].max()\n",
    "station_name = detection['station_name'].max()\n",
    "num_calls_in_detection = detection['num_calls_in_detection'].max()"
   ]
  },
  {
   "cell_type": "code",
   "execution_count": null,
   "metadata": {},
   "outputs": [],
   "source": [
    "print(\"Station name: {}\".format(station_name))\n",
    "print(\"Date detection: {} | Time detection: {}\".format(date,datetime_start))\n",
    "print(\"Number of calls on this detection: {}\".format(num_calls_in_detection))"
   ]
  },
  {
   "attachments": {},
   "cell_type": "markdown",
   "metadata": {},
   "source": [
    "##### Match label data with raw data"
   ]
  },
  {
   "cell_type": "code",
   "execution_count": null,
   "metadata": {},
   "outputs": [],
   "source": [
    "import datetime\n",
    "from obspy import UTCDateTime\n",
    "from datetime import date\n",
    "from datetime import timezone\n",
    "\n",
    "df_time_changed = detection.copy()\n",
    "df_time_changed['datetime_datetime'] = df_time_changed.datetime.apply(lambda x : datetime.datetime.strptime(x[:-3], '%Y-%m-%d %H:%M:%S.%f'))\n",
    "df_time_changed['datetime_UTCDateTime'] = df_time_changed.datetime.apply(lambda x : UTCDateTime(x))\n",
    "df_time_changed['datetime_ordinal'] = df_time_changed.datetime_datetime.apply(lambda x : date.toordinal(x))\n",
    "df_time_changed['datetime_tz'] = df_time_changed.datetime_datetime.apply(lambda x : x.replace(tzinfo=timezone.utc))"
   ]
  },
  {
   "cell_type": "code",
   "execution_count": null,
   "metadata": {},
   "outputs": [],
   "source": [
    "grouped_df = df_time_changed.groupby('detection_id').agg(\n",
    "    min_time_utc=('datetime_UTCDateTime', 'min'), \n",
    "    max_time_utc=('datetime_UTCDateTime', 'max'),\n",
    "    min_time=('datetime_datetime', 'min'), \n",
    "    max_time=('datetime_datetime', 'max'),\n",
    "    min_time_ordinal=('datetime_ordinal', 'min'), \n",
    "    max_time_ordinal=('datetime_ordinal', 'max'),\n",
    "    datetz_list=('datetime_tz', list), \n",
    "    datenum_list=('Datenum', list ),\n",
    "    date_list=('datetime',  list),\n",
    "    ).reset_index()\n",
    "\n",
    "grouped_df['length'] = grouped_df['min_time'] - grouped_df['max_time']"
   ]
  },
  {
   "attachments": {},
   "cell_type": "markdown",
   "metadata": {},
   "source": [
    "### Obspy <a class=\"anchor\" id=\"obspy\"></a>"
   ]
  },
  {
   "cell_type": "code",
   "execution_count": null,
   "metadata": {},
   "outputs": [],
   "source": [
    "from obspy import read\n",
    "import matplotlib.pyplot as plt\n",
    "import glob\n",
    "\n",
    "date = detection['date'].max()\n",
    "date_str = ''.join(date.split('-'))\n",
    "directory_path = '/network/projects/aia/whale_call/RAW/'+date_str+'/'\n",
    "files = glob.glob(directory_path+'*'+station_name+'*.SAC')"
   ]
  },
  {
   "cell_type": "code",
   "execution_count": null,
   "metadata": {},
   "outputs": [],
   "source": [
    "threechannels = read(files[0])\n",
    "for file_id in range(1,len(files)):\n",
    "    threechannels += read(files[file_id])"
   ]
  },
  {
   "cell_type": "code",
   "execution_count": null,
   "metadata": {},
   "outputs": [],
   "source": [
    "threechannels.plot(size=(1200, 400))"
   ]
  },
  {
   "attachments": {},
   "cell_type": "markdown",
   "metadata": {},
   "source": [
    "### Plot Fin Whale calls for one detection"
   ]
  },
  {
   "cell_type": "code",
   "execution_count": null,
   "metadata": {},
   "outputs": [],
   "source": [
    "import yaml\n",
    "\n",
    "with open('../config/config.yml', 'r') as file:\n",
    "    param_data = yaml.safe_load(file)['whale_constant']"
   ]
  },
  {
   "cell_type": "code",
   "execution_count": null,
   "metadata": {},
   "outputs": [],
   "source": [
    "fig,ax = plt.subplots(len(threechannels),1,figsize=(15,10))\n",
    "for index,trace in enumerate(threechannels):\n",
    "    starttime = df_time_changed['datetime_UTCDateTime'].min()\n",
    "    endtime = starttime + param_data[WHALE_TYPE][\"window\"]\n",
    "\n",
    "    # Plot trace of \n",
    "    sliced = trace.slice(starttime - 50, endtime + 50 )\n",
    "    ax[index].plot(sliced.times(\"matplotlib\"), sliced.data, \"b-\")\n",
    "\n",
    "    # Plot whales detections on timeline\n",
    "    for date in df_time_changed['datetime_tz'].values:\n",
    "        ax[index].axvline(\n",
    "            x=date,\n",
    "            color='r',\n",
    "            label=\"whale Call\")\n",
    "\n",
    "    ax[index].xaxis_date()\n",
    "    ax[index].set_xlabel('Time of day', fontweight='bold')\n",
    "    ax[index].set_ylabel('Amplitude', fontweight='bold')\n",
    "    ax[index].set_title(\n",
    "        \"{} calls | {} coordinates |Starting time: {} | Date: {}\".format(\n",
    "            param_data[WHALE_TYPE][\"name\"],\n",
    "            sliced.stats.channel,\n",
    "            df_time_changed.datetime_start.min(),\n",
    "            df_time_changed.date.min(),\n",
    "            ),\n",
    "        fontweight='bold')\n",
    "fig.tight_layout()\n",
    "plt.show()"
   ]
  },
  {
   "attachments": {},
   "cell_type": "markdown",
   "metadata": {},
   "source": [
    "# Apply signal processing methods"
   ]
  },
  {
   "cell_type": "code",
   "execution_count": null,
   "metadata": {},
   "outputs": [],
   "source": [
    "import numpy as np\n",
    "import matplotlib.pyplot as plt\n",
    "\n",
    "fig,ax = plt.subplots(len(threechannels),2,figsize=(15,10))\n",
    "for index,trace in enumerate(threechannels):\n",
    "\n",
    "    # Plot trace of \n",
    "    sliced = trace.slice(\n",
    "        starttime - 20, \n",
    "        endtime + 20 )\n",
    "\n",
    "    # Filtering with a lowpass on a copy of the original Trace\n",
    "    tr_filt = sliced.copy()\n",
    "    tr_filt.filter(\n",
    "        'bandpass', \n",
    "        freqmin=param_data[WHALE_TYPE][\"low_cut_bandpass\"],\n",
    "        freqmax=param_data[WHALE_TYPE][\"high_cut_bandpass\"],\n",
    "        corners=2, \n",
    "        zerophase=True)\n",
    "\n",
    "    # Now let's plot the raw and filtered data...\n",
    "    t = np.arange(0, sliced.stats.npts / sliced.stats.sampling_rate, sliced.stats.delta)\n",
    "    ax[index,0].plot(t, sliced.data)\n",
    "    ax[index,0].set_ylabel('Raw Data')\n",
    "    ax[index,0].set_xlabel('Time [s]')\n",
    "    ax[index,0].set_title('Raw signal | {} coordinates'.format(sliced.stats.channel))\n",
    "\n",
    "    ax[index,1].plot(t, tr_filt.data)\n",
    "    ax[index,1].set_ylabel('Bandpassed Data')\n",
    "    ax[index,1].set_xlabel('Time [s]')\n",
    "    ax[index,1].set_title('Bandpassed signal ({} Hz <-> {} Hz) | {} coordinates'.format(\n",
    "        param_data[WHALE_TYPE][\"low_cut_bandpass\"],\n",
    "        param_data[WHALE_TYPE][\"high_cut_bandpass\"],\n",
    "        sliced.stats.channel))\n",
    "\n",
    "fig.tight_layout()\n",
    "plt.show()"
   ]
  },
  {
   "cell_type": "code",
   "execution_count": null,
   "metadata": {},
   "outputs": [],
   "source": [
    "tr_filt.spectrogram(\n",
    "    samp_rate=100,\n",
    "    wlen=1,\n",
    "    per_lap=0.5,\n",
    "    dbscale=False)"
   ]
  },
  {
   "attachments": {},
   "cell_type": "markdown",
   "metadata": {},
   "source": [
    "### Add up all signals\n",
    "\n",
    "Build a spectrogram using the 3 different coordinates"
   ]
  },
  {
   "cell_type": "code",
   "execution_count": null,
   "metadata": {},
   "outputs": [],
   "source": [
    "import numpy as np\n",
    "import matplotlib.pyplot as plt\n",
    "\n",
    "dataa = []\n",
    "\n",
    "for index,trace in enumerate(threechannels):\n",
    "\n",
    "    # Plot trace of \n",
    "    sliced = trace.slice(\n",
    "        starttime - 20, \n",
    "        endtime + 20 )\n",
    "\n",
    "    # Filtering with a lowpass on a copy of the original Trace\n",
    "    tr_filt = sliced.copy()\n",
    "    tr_filt.filter(\n",
    "        'bandpass', \n",
    "        freqmin=param_data[WHALE_TYPE][\"low_cut_bandpass\"],\n",
    "        freqmax=param_data[WHALE_TYPE][\"high_cut_bandpass\"],\n",
    "        corners=2, \n",
    "        zerophase=True)\n",
    "    dataa.append(tr_filt)\n",
    "\n",
    "import numpy as np\n",
    "\n",
    "list_of_list = np.add(dataa[0].data, dataa[1].data, dataa[2].data)\n",
    "\n",
    "trace = threechannels[0]\n",
    "trace.data = list_of_list"
   ]
  },
  {
   "cell_type": "code",
   "execution_count": null,
   "metadata": {},
   "outputs": [],
   "source": [
    "trace.spectrogram(title='SPECTROGRAM')"
   ]
  }
 ],
 "metadata": {
  "kernelspec": {
   "display_name": "Python 3",
   "language": "python",
   "name": "python3"
  },
  "language_info": {
   "codemirror_mode": {
    "name": "ipython",
    "version": 3
   },
   "file_extension": ".py",
   "mimetype": "text/x-python",
   "name": "python",
   "nbconvert_exporter": "python",
   "pygments_lexer": "ipython3",
   "version": "3.9.12"
  },
  "vscode": {
   "interpreter": {
    "hash": "b6b99c77bf750355fb56332ff33066758e522b4d7c2777efd30b18611c2a3003"
   }
  }
 },
 "nbformat": 4,
 "nbformat_minor": 2
}
