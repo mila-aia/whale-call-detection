{
 "cells": [
  {
   "cell_type": "code",
   "execution_count": null,
   "metadata": {},
   "outputs": [],
   "source": [
    "from scipy.signal import butter, lfilter\n",
    "\n",
    "def butter_bandpass(lowcut, highcut, fs, order=5):\n",
    "    nyq = 0.5 * fs\n",
    "    low = lowcut / nyq\n",
    "    high = highcut / nyq\n",
    "    b, a = butter(order, [low, high], btype='band')\n",
    "    return b, a\n",
    "\n",
    "\n",
    "def butter_bandpass_filter(data, lowcut, highcut, fs, order=5):\n",
    "    b, a = butter_bandpass(lowcut, highcut, fs, order=order)\n",
    "    y = lfilter(b, a, data)\n",
    "    return y\n",
    "\n",
    "\n",
    "def run():\n",
    "    import numpy as np\n",
    "    import matplotlib.pyplot as plt\n",
    "    from scipy.signal import freqz\n",
    "\n",
    "    # Sample rate and desired cutoff frequencies (in Hz).\n",
    "    fs = 5000.0\n",
    "    lowcut = 500.0\n",
    "    highcut = 1250.0\n",
    "\n",
    "    # Plot the frequency response for a few different orders.\n",
    "    plt.figure(1)\n",
    "    plt.clf()\n",
    "    for order in [3, 6, 9]:\n",
    "        b, a = butter_bandpass(lowcut, highcut, fs, order=order)\n",
    "        w, h = freqz(b, a, worN=2000)\n",
    "        plt.plot((fs * 0.5 / np.pi) * w, abs(h), label=\"order = %d\" % order)\n",
    "\n",
    "    plt.plot([0, 0.5 * fs], [np.sqrt(0.5), np.sqrt(0.5)],\n",
    "             '--', label='sqrt(0.5)')\n",
    "    plt.xlabel('Frequency (Hz)')\n",
    "    plt.ylabel('Gain')\n",
    "    plt.grid(True)\n",
    "    plt.legend(loc='best')\n",
    "\n",
    "    # Filter a noisy signal.\n",
    "    T = 0.05\n",
    "    nsamples = int(T * fs)\n",
    "    t = np.linspace(0, T, nsamples, endpoint=False)\n",
    "    a = 0.02\n",
    "    f0 = 600.0\n",
    "    x = 0.1 * np.sin(2 * np.pi * 1.2 * np.sqrt(t))\n",
    "    x += 0.01 * np.cos(2 * np.pi * 312 * t + 0.1)\n",
    "    x += a * np.cos(2 * np.pi * f0 * t + .11)\n",
    "    x += 0.03 * np.cos(2 * np.pi * 2000 * t)\n",
    "    plt.figure(2)\n",
    "    plt.clf()\n",
    "    plt.plot(t, x, label='Noisy signal')\n",
    "\n",
    "    y = butter_bandpass_filter(x, lowcut, highcut, fs, order=6)\n",
    "    plt.plot(t, y, label='Filtered signal (%g Hz)' % f0)\n",
    "    plt.xlabel('time (seconds)')\n",
    "    plt.hlines([-a, a], 0, T, linestyles='--')\n",
    "    plt.grid(True)\n",
    "    plt.axis('tight')\n",
    "    plt.legend(loc='upper left')\n",
    "    plt.show()\n",
    "\n",
    "run()"
   ]
  }
 ],
 "metadata": {
  "kernelspec": {
   "display_name": "signal-processing",
   "language": "python",
   "name": "python3"
  },
  "language_info": {
   "codemirror_mode": {
    "name": "ipython",
    "version": 3
   },
   "file_extension": ".py",
   "mimetype": "text/x-python",
   "name": "python",
   "nbconvert_exporter": "python",
   "pygments_lexer": "ipython3",
   "version": "3.10.8 (main, Nov 24 2022, 08:09:04) [Clang 14.0.6 ]"
  },
  "vscode": {
   "interpreter": {
    "hash": "dd5bd5b3cde2f6b22ba9fb4d1e8077806a6ad2000fbc2bec6d807c66178fbb91"
   }
  }
 },
 "nbformat": 4,
 "nbformat_minor": 2
}
