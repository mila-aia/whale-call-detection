{
 "cells": [
  {
   "cell_type": "code",
   "execution_count": null,
   "metadata": {},
   "outputs": [],
   "source": [
    "from obspy import read, UTCDateTime,read_inventory\n",
    "from matplotlib import pyplot as plt\n",
    "RESP_DIR = '/network/projects/aia/whale_call/RESP'"
   ]
  },
  {
   "cell_type": "code",
   "execution_count": null,
   "metadata": {},
   "outputs": [],
   "source": [
    "data_path='/network/projects/aia/whale_call/'\n",
    "station_name = 'PMAQ'\n",
    "channel = 'HHZ'\n",
    "inv = read_inventory(RESP_DIR+\"/\"+\"/RESP.CN.%s..%s\"%(station_name,channel),format='RESP')\n",
    "center_time = UTCDateTime(\"20200902015300\")\n",
    "detection_win_len = 120 # lenth of detection window in s\n",
    "data_year = center_time.year\n",
    "data_month = center_time.month\n",
    "data_day = center_time.day\n",
    "start_time = center_time - detection_win_len/2\n",
    "end_time = center_time + detection_win_len/2\n",
    "\n",
    "date_string = '%s%02d%02d'%(data_year,data_month,data_day)\n",
    "file_patterns = data_path+date_string+'/'+ '%s.%02d.%02d.CN'%(data_year,data_month,data_day)+'*'+station_name+'*Z*.SAC'\n",
    "\n",
    "st = read(data_path+date_string+\"/\"+'%s.%02d.%02d.CN'%(data_year,data_month,data_day)+\".%s..%s.SAC\"%(station_name,channel),\n",
    "     starttime=start_time,endtime=end_time)\n",
    "tr = st[0]\n"
   ]
  },
  {
   "attachments": {},
   "cell_type": "markdown",
   "metadata": {},
   "source": [
    "### Perform bandpass"
   ]
  },
  {
   "cell_type": "code",
   "execution_count": null,
   "metadata": {},
   "outputs": [],
   "source": [
    "freq_min = 12\n",
    "freq_max = 32\n",
    "tr.filter('bandpass', freqmin=freq_min, freqmax=freq_max,zerophase=True)\n"
   ]
  },
  {
   "attachments": {},
   "cell_type": "markdown",
   "metadata": {},
   "source": [
    "### Remove IR and Visualize IR curve"
   ]
  },
  {
   "cell_type": "code",
   "execution_count": null,
   "metadata": {},
   "outputs": [],
   "source": [
    "tr_ir_removed = tr.copy()\n",
    "pre_filt = [0.001, 0.005, 45, 50]\n",
    "tr_ir_removed.remove_response(inventory=inv, pre_filt=pre_filt, output=\"VEL\",\n",
    "                   water_level=70, plot=True) \n"
   ]
  },
  {
   "cell_type": "code",
   "execution_count": null,
   "metadata": {},
   "outputs": [],
   "source": [
    "fig,axs=plt.subplots(3,1,figsize=(4,6))\n",
    "tr.spectrogram(axes=axs[0])\n",
    "tr_ir_removed.spectrogram(axes=axs[1])\n",
    "tr.data = (tr.data-tr.data.min())/(tr.data.max()-tr.data.min())\n",
    "tr_ir_removed.data = (tr_ir_removed.data-tr_ir_removed.data.min())/(tr_ir_removed.data.max()-tr_ir_removed.data.min())\n",
    "axs[2].plot(tr.data,label='Raw')\n",
    "axs[2].plot(tr_ir_removed.data,label='IR removed')\n",
    "axs[2].legend()"
   ]
  },
  {
   "cell_type": "code",
   "execution_count": null,
   "metadata": {},
   "outputs": [],
   "source": []
  }
 ],
 "metadata": {
  "kernelspec": {
   "display_name": "whale",
   "language": "python",
   "name": "python3"
  },
  "language_info": {
   "codemirror_mode": {
    "name": "ipython",
    "version": 3
   },
   "file_extension": ".py",
   "mimetype": "text/x-python",
   "name": "python",
   "nbconvert_exporter": "python",
   "pygments_lexer": "ipython3",
   "version": "3.9.12"
  },
  "vscode": {
   "interpreter": {
    "hash": "18e4029a2df6ccc2263d21f79565dbbc86418c6d27dddb59d3273cc9e38186c7"
   }
  }
 },
 "nbformat": 4,
 "nbformat_minor": 2
}
