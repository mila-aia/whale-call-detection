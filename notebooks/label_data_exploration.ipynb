{
 "cells": [
  {
   "attachments": {},
   "cell_type": "markdown",
   "metadata": {},
   "source": [
    "### Table of Contents\n",
    "\n",
    "This notebook contains the code to load, preprocess, and explore the labeled whale call detection dataset\n",
    "\n",
    "* [1. Load data](#loaddata)\n",
    "* [2. Explore data](#exploredata)\n",
    "    * [Map of station locations](#map_loc)\n",
    "    * [Number of detection per station](#num_detect)\n",
    "    * [Number of detection per day per station](#num_detect_day)\n"
   ]
  },
  {
   "attachments": {},
   "cell_type": "markdown",
   "metadata": {},
   "source": [
    "# Load data <a class=\"anchor\" id=\"loaddata\"></a>"
   ]
  },
  {
   "cell_type": "code",
   "execution_count": null,
   "metadata": {},
   "outputs": [],
   "source": [
    "from datetime import date\n",
    "from datetime import timedelta\n",
    "import numpy as np\n",
    "import pandas as pd"
   ]
  },
  {
   "cell_type": "code",
   "execution_count": null,
   "metadata": {},
   "outputs": [],
   "source": [
    "# Load data\n",
    "fwc = pd.read_csv('data/fwc_preprocessed.csv')\n",
    "bwc = pd.read_csv('data/bwc_preprocessed.csv')"
   ]
  },
  {
   "cell_type": "code",
   "execution_count": null,
   "metadata": {},
   "outputs": [],
   "source": [
    "column_show = ['date','time','station_name','R','SNR','detection_id','num_calls_in_detection']"
   ]
  },
  {
   "attachments": {},
   "cell_type": "markdown",
   "metadata": {},
   "source": [
    "# Explore data <a class=\"anchor\" id=\"exploredata\"></a>"
   ]
  },
  {
   "cell_type": "code",
   "execution_count": null,
   "metadata": {},
   "outputs": [],
   "source": [
    "import plotly.express as px\n",
    "from plotly.subplots import make_subplots\n",
    "import plotly.graph_objects as go\n",
    "from plotly.offline import plot"
   ]
  },
  {
   "attachments": {},
   "cell_type": "markdown",
   "metadata": {},
   "source": [
    "##### Map of station locations <a class=\"anchor\" id=\"map_loc\"></a>"
   ]
  },
  {
   "cell_type": "code",
   "execution_count": null,
   "metadata": {},
   "outputs": [],
   "source": [
    "%matplotlib inline\n",
    "import matplotlib.pyplot as plt\n",
    "import matplotlib.image as mpimg\n",
    "img = mpimg.imread('data/map_seismo_stations.png')\n",
    "imgplot = plt.imshow(img)\n",
    "plt.show()"
   ]
  },
  {
   "attachments": {},
   "cell_type": "markdown",
   "metadata": {},
   "source": [
    "##### Number of detection per station <a class=\"anchor\" id=\"num_detect\"></a>"
   ]
  },
  {
   "cell_type": "code",
   "execution_count": null,
   "metadata": {},
   "outputs": [],
   "source": [
    "fig = make_subplots(\n",
    "   rows=1, cols=2,\n",
    "   specs=[[\n",
    "      {\"type\": \"pie\"},\n",
    "      {\"type\": \"pie\"}\n",
    "   ]],\n",
    "   subplot_titles= ['Fin Whales','Blue Whales'])\n",
    "\n",
    "# Set traces for the first pie chart\n",
    "fig.add_trace(go.Pie(\n",
    "   values=fwc.groupby('station_name').detection_id.nunique(),\n",
    "   labels=fwc.groupby('station_name').detection_id.nunique().index.values,\n",
    "   # domain=dict(x=[0, 0.5]),\n",
    "   name=\"colors1\",),\n",
    "   row=1, col=1\n",
    ")\n",
    "\n",
    "# Set traces for the first pie chart\n",
    "fig.add_trace(go.Pie(\n",
    "   values=bwc.groupby('station_name').detection_id.nunique(),\n",
    "   labels=bwc.groupby('station_name').detection_id.nunique().index.values,\n",
    "   domain=dict(x=[0, 0.5]),\n",
    "   name=\"colors1\"),\n",
    "   row=1, col=2\n",
    ")\n",
    "\n",
    "fig.update_layout(height=600, width=800, title_text=\"Number of detection per station\")\n",
    "fig.update_traces(textposition='inside', textinfo='percent+label+value')\n",
    "fig.show()"
   ]
  },
  {
   "cell_type": "code",
   "execution_count": null,
   "metadata": {},
   "outputs": [],
   "source": [
    "df = px.data.stocks()\n",
    "fig = px.histogram(\n",
    "    bwc.groupby(['station_name','date']).detection_id.nunique().reset_index(),\n",
    "    x=\"date\", \n",
    "    facet_col=\"station_name\",\n",
    "    y='detection_id',\n",
    "    hover_data={\"date\": \"|%B %d, %Y\"},\n",
    "    nbins=50,\n",
    "    title='[Blue Whales] Number of detection per day per station')\n",
    "\n",
    "fig.show()"
   ]
  },
  {
   "attachments": {},
   "cell_type": "markdown",
   "metadata": {},
   "source": [
    "##### Evolution of number of detection per day per station <a class=\"anchor\" id=\"num_detect_day\"></a>"
   ]
  },
  {
   "cell_type": "code",
   "execution_count": null,
   "metadata": {},
   "outputs": [],
   "source": [
    "df = px.data.stocks()\n",
    "fig = px.histogram(\n",
    "    fwc.groupby(['station_name','date']).detection_id.nunique().reset_index(),\n",
    "    x=\"date\", \n",
    "    facet_col=\"station_name\",\n",
    "    y='detection_id',\n",
    "    hover_data={\"date\": \"|%B %d, %Y\"},\n",
    "    nbins=50,\n",
    "    title='[Fin Whales] Number of detection per day per station')\n",
    "\n",
    "fig.show()"
   ]
  },
  {
   "attachments": {},
   "cell_type": "markdown",
   "metadata": {},
   "source": [
    "# Stats\n",
    "\n",
    "#### Fin Whales"
   ]
  },
  {
   "cell_type": "code",
   "execution_count": null,
   "metadata": {},
   "outputs": [],
   "source": [
    "print(\"Number of total detections:\",fwc[column_show].detection_id.nunique())"
   ]
  },
  {
   "cell_type": "code",
   "execution_count": null,
   "metadata": {},
   "outputs": [],
   "source": [
    "import plotly.express as px\n",
    "df = px.data.tips()\n",
    "fig = px.histogram(\n",
    "    fwc[column_show].groupby(['date']).detection_id.nunique(), \n",
    "    x=\"detection_id\",\n",
    "    nbins=200,\n",
    "    title='Number of detection per day'\n",
    "    )\n",
    "fig.show()"
   ]
  },
  {
   "cell_type": "code",
   "execution_count": null,
   "metadata": {},
   "outputs": [],
   "source": [
    "import plotly.express as px\n",
    "df = px.data.tips()\n",
    "fig = px.histogram(\n",
    "    fwc[column_show].groupby(['detection_id']).num_calls_in_detection.max(), \n",
    "    x=\"num_calls_in_detection\",\n",
    "    nbins=20,\n",
    "    title='Number of calls in a detection'\n",
    "    )\n",
    "fig.show()"
   ]
  },
  {
   "attachments": {},
   "cell_type": "markdown",
   "metadata": {},
   "source": [
    "#### Blue Whale"
   ]
  },
  {
   "cell_type": "code",
   "execution_count": null,
   "metadata": {},
   "outputs": [],
   "source": [
    "print(\"Number of total detections:\",bwc[column_show].detection_id.nunique())"
   ]
  },
  {
   "cell_type": "code",
   "execution_count": null,
   "metadata": {},
   "outputs": [],
   "source": [
    "import plotly.express as px\n",
    "df = px.data.tips()\n",
    "fig = px.histogram(\n",
    "    bwc[column_show].groupby(['date']).detection_id.nunique(), \n",
    "    x=\"detection_id\",\n",
    "    nbins=200,\n",
    "    title='Number of detection per day'\n",
    "    )\n",
    "fig.show()"
   ]
  },
  {
   "cell_type": "code",
   "execution_count": null,
   "metadata": {},
   "outputs": [],
   "source": [
    "import plotly.express as px\n",
    "df = px.data.tips()\n",
    "fig = px.histogram(\n",
    "    bwc[column_show].groupby(['detection_id']).num_calls_in_detection.max(), \n",
    "    x=\"num_calls_in_detection\",\n",
    "    nbins=20,\n",
    "    title='Number of calls in a detection'\n",
    "    )\n",
    "fig.show()"
   ]
  }
 ],
 "metadata": {
  "kernelspec": {
   "display_name": "Python 3",
   "language": "python",
   "name": "python3"
  },
  "language_info": {
   "codemirror_mode": {
    "name": "ipython",
    "version": 3
   },
   "file_extension": ".py",
   "mimetype": "text/x-python",
   "name": "python",
   "nbconvert_exporter": "python",
   "pygments_lexer": "ipython3",
   "version": "3.9.12"
  },
  "vscode": {
   "interpreter": {
    "hash": "b6b99c77bf750355fb56332ff33066758e522b4d7c2777efd30b18611c2a3003"
   }
  }
 },
 "nbformat": 4,
 "nbformat_minor": 2
}
