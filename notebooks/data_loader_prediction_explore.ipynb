{
 "cells": [
  {
   "cell_type": "code",
   "execution_count": null,
   "metadata": {},
   "outputs": [],
   "source": [
    "\n",
    "from whale.data_io.data_loader import WhaleDataModule\n",
    "import torch\n",
    "from pytorch_lightning import seed_everything\n",
    "import numpy  as np\n",
    "from matplotlib import pyplot as plt\n",
    "seed_everything(1234)\n",
    "\n",
    "whale_dm = WhaleDataModule(\n",
    "    data_dir=\"/network/projects/aia/whale_call/LABELS/FWC_1CH_mini\", batch_size=1\n",
    ")\n",
    "whale_dm.setup()\n",
    "\n"
   ]
  },
  {
   "cell_type": "code",
   "execution_count": null,
   "metadata": {},
   "outputs": [],
   "source": [
    "train_ds = whale_dm.train_ds\n",
    "train_size = len(train_ds)\n",
    "idx_rands = np.random.choice(train_size, 9)\n"
   ]
  },
  {
   "cell_type": "code",
   "execution_count": null,
   "metadata": {},
   "outputs": [],
   "source": [
    "from whale.models import UNet\n",
    "device = torch.device(\"cuda\" if torch.cuda.is_available() else \"cpu\")\n",
    "ckpt_path = '/network/projects/aia/whale_call/mlruns/ckpts/unet'\n",
    "model = UNet.load_from_checkpoint(ckpt_path+'/epoch=0-step=63.ckpt')\n",
    "model.eval();\n",
    "model.to(device);"
   ]
  },
  {
   "cell_type": "code",
   "execution_count": null,
   "metadata": {},
   "outputs": [],
   "source": [
    "fig,axs = plt.subplots(3,3,figsize=(9,9))\n",
    "from matplotlib import pyplot as plt\n",
    "for i in range(9):\n",
    "    idx_rand = idx_rands[i]\n",
    "    row = i // 3\n",
    "    col = i%3\n",
    "    data_sel = train_ds[idx_rand]\n",
    "    sig = data_sel['sig']\n",
    "    pred = torch.argmax(model(sig.unsqueeze(0).to(device)),axis=1)\n",
    "    target = data_sel['target']\n",
    "    \n",
    "    axs[row][col].plot(np.arange(501),sig[0]);\n",
    "    axs[row][col].plot(np.arange(501),pred[0].cpu(),color='red');\n",
    "    axs[row][col].plot(np.arange(501),target);\n",
    "\n"
   ]
  },
  {
   "cell_type": "code",
   "execution_count": null,
   "metadata": {},
   "outputs": [],
   "source": []
  }
 ],
 "metadata": {
  "kernelspec": {
   "display_name": "whale",
   "language": "python",
   "name": "python3"
  },
  "language_info": {
   "codemirror_mode": {
    "name": "ipython",
    "version": 3
   },
   "file_extension": ".py",
   "mimetype": "text/x-python",
   "name": "python",
   "nbconvert_exporter": "python",
   "pygments_lexer": "ipython3",
   "version": "3.9.12"
  },
  "vscode": {
   "interpreter": {
    "hash": "18e4029a2df6ccc2263d21f79565dbbc86418c6d27dddb59d3273cc9e38186c7"
   }
  }
 },
 "nbformat": 4,
 "nbformat_minor": 2
}
