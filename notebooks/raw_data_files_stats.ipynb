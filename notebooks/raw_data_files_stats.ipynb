{
 "cells": [
  {
   "attachments": {},
   "cell_type": "markdown",
   "metadata": {},
   "source": [
    "### Table of Contents\n",
    "\n",
    "This notebook contains the code to load, preprocess, and explore the labeled whale call detection dataset\n",
    "\n",
    "* [1. Load data](#loaddata)\n",
    "* [2. Stats of raw data](#stats)\n",
    "    * [Type of files](#typefiles)\n",
    "    * [Number of file per station](#stationfiles)\n",
    "* [3. Visualy explore data](#vizexp)\n",
    "    * [Obspy](#obspy)\n",
    "    * [Pysmo](#pysmo)\n"
   ]
  },
  {
   "attachments": {},
   "cell_type": "markdown",
   "metadata": {},
   "source": [
    "# Load data <a class=\"anchor\" id=\"loaddata\"></a>"
   ]
  },
  {
   "cell_type": "code",
   "execution_count": null,
   "metadata": {},
   "outputs": [],
   "source": [
    "import glob\n",
    "import pandas as pd\n",
    "import random\n",
    "from collections import Counter\n",
    "\n",
    "file_directory = '/network/projects/aia/whale_call'\n",
    "list_files = glob.glob(file_directory+'/*/*.SAC')"
   ]
  },
  {
   "cell_type": "code",
   "execution_count": null,
   "metadata": {},
   "outputs": [],
   "source": [
    "print(\"Total number of files:\",len(list_files))"
   ]
  },
  {
   "attachments": {},
   "cell_type": "markdown",
   "metadata": {},
   "source": [
    "# Stats of raw data <a class=\"anchor\" id=\"stats\"></a>\n",
    "\n",
    "### Type of files <a class=\"anchor\" id=\"typefiles\"></a>"
   ]
  },
  {
   "cell_type": "code",
   "execution_count": null,
   "metadata": {},
   "outputs": [],
   "source": [
    "file_extensions = Counter([file[-7:-4] for file in list_files]).keys()\n",
    "\n",
    "for extension in file_extensions:\n",
    "    print(\"{}: {} files\".format(extension,sum(extension in s for s in list_files)))"
   ]
  },
  {
   "attachments": {},
   "cell_type": "markdown",
   "metadata": {},
   "source": [
    "### Number of files per station <a class=\"anchor\" id=\"stationfiles\"></a>"
   ]
  },
  {
   "cell_type": "code",
   "execution_count": null,
   "metadata": {},
   "outputs": [],
   "source": [
    "sta_names = [\"PMAQ\",\"ICQ\",\"SNFQ\",\"RISQ\",\"SMQ\",\"CNQ\"]\n",
    "\n",
    "for sta in sta_names:\n",
    "    sta_files = [s for s in list_files if sta in s.split('/')[-1]]\n",
    "    print(\"{}: {} files\".format(sta,sum(sta in s for s in list_files if sta in s.split('/')[-1])))"
   ]
  },
  {
   "attachments": {},
   "cell_type": "markdown",
   "metadata": {},
   "source": [
    "### Stations and files"
   ]
  },
  {
   "cell_type": "code",
   "execution_count": null,
   "metadata": {},
   "outputs": [],
   "source": [
    "df = pd.DataFrame(\n",
    "    columns=file_extensions,\n",
    "    index=[\"PMAQ\",\"ICQ\",\"SNFQ\",\"RISQ\",\"SMQ\",\"CNQ\"])"
   ]
  },
  {
   "cell_type": "code",
   "execution_count": null,
   "metadata": {},
   "outputs": [],
   "source": [
    "sta_names = [\"PMAQ\",\"ICQ\",\"SNFQ\",\"RISQ\",\"SMQ\",\"CNQ\"]\n",
    "\n",
    "for sta in sta_names:\n",
    "    sta_files = [s for s in list_files if sta in s.split('/')[-1]]\n",
    "    for extension in file_extensions:\n",
    "        df.xs(sta)[extension] = sum(extension in s for s in sta_files)"
   ]
  },
  {
   "cell_type": "code",
   "execution_count": null,
   "metadata": {},
   "outputs": [],
   "source": [
    "df.loc['Total']= df.sum()\n",
    "df['Total'] = df.sum(axis=1).astype(int)"
   ]
  },
  {
   "cell_type": "code",
   "execution_count": null,
   "metadata": {},
   "outputs": [],
   "source": [
    "df"
   ]
  }
 ],
 "metadata": {
  "kernelspec": {
   "display_name": "Python 3",
   "language": "python",
   "name": "python3"
  },
  "language_info": {
   "codemirror_mode": {
    "name": "ipython",
    "version": 3
   },
   "file_extension": ".py",
   "mimetype": "text/x-python",
   "name": "python",
   "nbconvert_exporter": "python",
   "pygments_lexer": "ipython3",
   "version": "3.7.4"
  },
  "vscode": {
   "interpreter": {
    "hash": "6c4515b86f97ba02b1d3e740afb23c3c73c3975739805ad685934a4938588fc0"
   }
  }
 },
 "nbformat": 4,
 "nbformat_minor": 2
}
