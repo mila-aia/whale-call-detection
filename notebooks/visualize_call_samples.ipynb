{
 "cells": [
  {
   "attachments": {},
   "cell_type": "markdown",
   "metadata": {},
   "source": [
    "## visualize selected call samples"
   ]
  },
  {
   "attachments": {},
   "cell_type": "markdown",
   "metadata": {},
   "source": [
    "### A selected Fin Whale Detection"
   ]
  },
  {
   "cell_type": "code",
   "execution_count": null,
   "metadata": {},
   "outputs": [],
   "source": [
    "from obspy import read, UTCDateTime\n",
    "\n",
    "data_path='/network/projects/aia/whale_call/RAW/'\n",
    "station_name = 'ICQ'\n",
    "channel = 'HHN'\n",
    "call_t1 = UTCDateTime(\"20201029051032\")\n",
    "det_win = 120\n",
    "data_year = call_t1.year\n",
    "data_month = call_t1.month\n",
    "data_day = call_t1.day\n",
    "\n",
    "date_string = '%s%02d%02d'%(data_year,data_month,data_day)\n",
    "file_patterns = data_path+date_string+'/'+ '%s.%02d.%02d.CN'%(data_year,data_month,data_day)+'*'+station_name+'*Z*.SAC'\n",
    "\n",
    "st = read(data_path+date_string+\"/\"+'%s.%02d.%02d.CN'%(data_year,data_month,data_day)+\".%s..%s.SAC\"%(station_name,channel))\n",
    "# st.taper(max_percentage=0.,type='cosine')\n",
    "st.filter(\n",
    "        \"bandpass\", freqmin=12, freqmax=32, zerophase=True\n",
    "    )\n",
    "T0 = UTCDateTime(date_string);\n",
    "T1= st[0].meta['starttime'];\n",
    "rel_t=2*(T0-T1);\n",
    "call_t1 =call_t1-rel_t;\n",
    "call_t2 = call_t1+det_win;\n",
    "\n",
    "st_sliced = st.slice(starttime=call_t1,endtime=call_t2)\n",
    "st_sliced.plot()\n",
    "st_sliced.spectrogram();\n",
    "\n"
   ]
  },
  {
   "attachments": {},
   "cell_type": "markdown",
   "metadata": {},
   "source": [
    "### A selected BW Detection"
   ]
  },
  {
   "cell_type": "code",
   "execution_count": null,
   "metadata": {},
   "outputs": [],
   "source": [
    "from obspy import read, UTCDateTime\n",
    "\n",
    "data_path='/network/projects/aia/whale_call/RAW/'\n",
    "station_name = 'SNFQ'\n",
    "channel = 'HHZ'\n",
    "call_t1 = UTCDateTime(\"20210822063600\")\n",
    "det_win = 720\n",
    "data_year = call_t1.year\n",
    "data_month = call_t1.month\n",
    "data_day = call_t1.day\n",
    "\n",
    "date_string = '%s%02d%02d'%(data_year,data_month,data_day)\n",
    "\n",
    "st = read(data_path+date_string+\"/\"+'%s.%02d.%02d.CN'%(data_year,data_month,data_day)+\".%s..%s.SAC\"%(station_name,channel))\n",
    "# st.taper(max_percentage=0.,type='cosine')\n",
    "st.filter(\n",
    "        \"bandpass\", freqmin=12, freqmax=32, zerophase=True\n",
    "    )\n",
    "T0 = UTCDateTime(date_string);\n",
    "T1= st[0].meta['starttime'];\n",
    "rel_t=2*(T0-T1);\n",
    "call_t1 =call_t1-rel_t;\n",
    "call_t2 = call_t1+det_win;\n",
    "\n",
    "st_sliced = st.slice(starttime=call_t1,endtime=call_t2)\n",
    "st_sliced.plot()\n",
    "st_sliced.spectrogram();\n",
    "\n"
   ]
  },
  {
   "attachments": {},
   "cell_type": "markdown",
   "metadata": {},
   "source": [
    "## Visualize random samples from raw data"
   ]
  },
  {
   "attachments": {},
   "cell_type": "markdown",
   "metadata": {},
   "source": [
    "### FW Calls"
   ]
  },
  {
   "attachments": {},
   "cell_type": "markdown",
   "metadata": {},
   "source": [
    "#### Quality metric visualization"
   ]
  },
  {
   "cell_type": "code",
   "execution_count": null,
   "metadata": {},
   "outputs": [],
   "source": [
    "import pandas as pd\n",
    "import numpy as np\n",
    "from obspy import read, UTCDateTime\n",
    "import matplotlib.pyplot as plt\n",
    "fw_path = '/network/projects/aia/whale_call/LABELS/FW/'\n",
    "fw_filt = pd.read_csv(fw_path+'fw_filt.csv')\n",
    "## plot histogram of R and SNR in fw_filt  \n",
    "fig,ax = plt.subplots(1,2,figsize=(10,5))\n",
    "ax[0].hist(fw_filt['R'],bins=100)\n",
    "ax[0].set_xlabel('R')\n",
    "ax[0].set_ylabel('Count')\n",
    "ax[1].hist(fw_filt['SNR'],bins=100)\n",
    "ax[1].set_xlabel('SNR')\n",
    "ax[1].set_ylabel('Count')\n",
    "plt.show()\n",
    "\n"
   ]
  },
  {
   "cell_type": "code",
   "execution_count": null,
   "metadata": {},
   "outputs": [],
   "source": [
    "print(fw_filt['R'].quantile([0.1,0.25,0.5,0.75,0.9]))\n",
    "print(fw_filt['SNR'].quantile([0.1,0.25,0.5,0.75,0.9]))"
   ]
  },
  {
   "cell_type": "code",
   "execution_count": null,
   "metadata": {},
   "outputs": [],
   "source": [
    "## a heatmap showing the number of data points in each bin of R and SNR\n",
    "fig,ax = plt.subplots(1,1,figsize=(10,5))\n",
    "ax.scatter(fw_filt['R'],fw_filt['SNR'])\n",
    "ax.set_xlabel('R')\n",
    "ax.set_ylabel('SNR')\n",
    "plt.show()"
   ]
  },
  {
   "attachments": {},
   "cell_type": "markdown",
   "metadata": {},
   "source": [
    "#### A random FWC with high quality"
   ]
  },
  {
   "cell_type": "code",
   "execution_count": null,
   "metadata": {},
   "outputs": [],
   "source": [
    "len(fw_filt[(fw_filt['R']>R0) & (fw_filt['SNR']>SNR0)])/3"
   ]
  },
  {
   "cell_type": "code",
   "execution_count": null,
   "metadata": {},
   "outputs": [],
   "source": [
    "fw_path = '/network/projects/aia/whale_call/LABELS/FW/'\n",
    "fw_filt = pd.read_csv(fw_path+'fw_filt.csv')\n",
    "R0 = 5 # set up the minimum R-index value for stronger signal\n",
    "SNR0 = 5# set up the minimum SNR value for stronger signal\n",
    "# filter fw_filt by R and SNR in one line\n",
    "print(len(fw_filt[(fw_filt['R']>R0) & (fw_filt['SNR']>SNR0)])/len(fw_filt))\n",
    "fw_data_sample = fw_filt[(fw_filt['R']>R0) & (fw_filt['SNR']>SNR0)].sample(n=1).iloc[0]\n",
    "\n",
    "sac_file = fw_data_sample['file_path']\n",
    "t0 = UTCDateTime(fw_data_sample['time_window_start'])\n",
    "t1 = UTCDateTime(fw_data_sample['time_window_end'])\n",
    "call_t = UTCDateTime(fw_data_sample['time_R_max'])\n",
    "\n",
    "st = read(sac_file)\n",
    "st_sliced = st.slice(starttime=t0,endtime=t1)\n",
    "data_len = len(st_sliced[0].data)\n",
    "fig,ax = plt.subplots(figsize=(12,2))\n",
    "ax.plot(np.arange(0,data_len)*0.01,st_sliced[0].data)\n",
    "ax.axvline(x=call_t-t0,color='red')\n",
    "# st_sliced.spectrogram();\n",
    "\n",
    "fig,ax2 = plt.subplots(figsize=(5,4))\n",
    "\n",
    "st_sliced.spectrogram(axes=ax2);\n",
    "ax2.axvline(x=call_t-t0-0.5,color='green')\n",
    "ax2.axvline(x=call_t+0.5-t0,color='green')\n"
   ]
  },
  {
   "attachments": {},
   "cell_type": "markdown",
   "metadata": {},
   "source": [
    "#### A random FWC with low quality"
   ]
  },
  {
   "cell_type": "code",
   "execution_count": null,
   "metadata": {},
   "outputs": [],
   "source": [
    "fw_path = '/network/projects/aia/whale_call/LABELS/FW/'\n",
    "fw_filt = pd.read_csv(fw_path+'fw_filt.csv')\n",
    "R0 = 1 # set up the minimum R-index value for stronger signal\n",
    "SNR0 = 1# set up the minimum SNR value for stronger signal\n",
    "# filter fw_filt by R and SNR in one line\n",
    "print(len(fw_filt[(fw_filt['R']<R0) & (fw_filt['SNR']<SNR0)])/len(fw_filt))\n",
    "fw_data_sample = fw_filt[(fw_filt['R']<R0) & (fw_filt['SNR']<SNR0)].sample(n=1).iloc[0]\n",
    "\n",
    "sac_file = fw_data_sample['file_path']\n",
    "t0 = UTCDateTime(fw_data_sample['time_window_start'])\n",
    "t1 = UTCDateTime(fw_data_sample['time_window_end'])\n",
    "call_t = UTCDateTime(fw_data_sample['time_R_max'])\n",
    "\n",
    "st = read(sac_file)\n",
    "st_sliced = st.slice(starttime=t0,endtime=t1)\n",
    "data_len = len(st_sliced[0].data)\n",
    "fig,ax = plt.subplots(figsize=(12,2))\n",
    "ax.plot(np.arange(0,data_len)*0.01,st_sliced[0].data)\n",
    "ax.axvline(x=call_t-t0,color='red')\n",
    "st_sliced.spectrogram();\n",
    "\n"
   ]
  },
  {
   "attachments": {},
   "cell_type": "markdown",
   "metadata": {},
   "source": [
    "#### A random FW detection with high quality"
   ]
  },
  {
   "cell_type": "code",
   "execution_count": null,
   "metadata": {},
   "outputs": [],
   "source": [
    "import pandas as pd\n",
    "import numpy as np\n",
    "from obspy import read, UTCDateTime\n",
    "import matplotlib.pyplot as plt\n",
    "fw_path = '/network/projects/aia/whale_call/LABELS/FW/'\n",
    "R0=5\n",
    "SNR0=5\n",
    "fw_filt = pd.read_csv(fw_path+'fw_filt.csv')\n",
    "# Create a column containing the average SNR of the same group-id\n",
    "fw_filt['SNR_avg'] = fw_filt.groupby('group_id')['SNR'].transform('mean')\n",
    "fw_filt = fw_filt[fw_filt['SNR_avg']>SNR0]\n",
    "# Create a column containing the average R of the same group-id\n",
    "fw_filt['R_avg'] = fw_filt.groupby('group_id')['R'].transform('mean')\n",
    "fw_filt = fw_filt[fw_filt['R_avg']>R0]\n",
    "## Get a random detection group\n",
    "fw_detection_group= fw_filt['group_id'].unique()\n",
    "group_id = np.random.choice(fw_detection_group)\n",
    "\n",
    "fw_data_sample = fw_filt[fw_filt['group_id']==group_id]\n",
    "\n",
    "for component in fw_data_sample.component.unique():\n",
    "\n",
    "    one_component = fw_data_sample[fw_data_sample.component == component].copy()\n",
    "    ## Get the ealiest time_window_start within the group\n",
    "    t0 = fw_data_sample.sort_values(by=['time_window_start']).iloc[0]['time_window_start']\n",
    "    ## Get the latest time_window_end within the group\n",
    "    t1 = fw_data_sample.sort_values(by=['time_window_start'],ascending=False).iloc[0]['time_window_end']\n",
    "    ## Get a list of unique call_start_time within the group\n",
    "    call_list = fw_data_sample['time_call_start'].unique()\n",
    "\n",
    "    sac_file = fw_data_sample.sample(n=1).iloc[0]['file_path']\n",
    "    t0 = UTCDateTime(t0)\n",
    "    t1 = UTCDateTime(t1)\n",
    "\n",
    "    st = read(sac_file)\n",
    "    st_sliced = st.slice(starttime=t0,endtime=t1)\n",
    "    data_len = len(st_sliced[0].data)\n",
    "    fig,ax = plt.subplots(figsize=(12,2))\n",
    "    ax.plot(np.arange(0,data_len)*0.01,st_sliced[0].data)\n",
    "    for call_t in call_list:\n",
    "        call_t = UTCDateTime(call_t)\n",
    "        ax.axvline(x=call_t-t0,color='red')\n",
    "        ax.set_title('Filtered SAC - Component: {}'.format(component))\n",
    "\n",
    "    fig,ax2 = plt.subplots(figsize=(8,4))\n",
    "    st_sliced.spectrogram(axes=ax2);\n",
    "    for call_t in call_list:\n",
    "        call_t = UTCDateTime(call_t)\n",
    "        ax2.axvline(x=call_t-t0,color='grey')\n",
    "        ax2.axvline(x=call_t+0.5-t0,color='green')"
   ]
  },
  {
   "cell_type": "code",
   "execution_count": null,
   "metadata": {},
   "outputs": [],
   "source": [
    "fw_data_sample"
   ]
  },
  {
   "attachments": {},
   "cell_type": "markdown",
   "metadata": {},
   "source": [
    "#### A random FW Detection with low quality"
   ]
  },
  {
   "cell_type": "code",
   "execution_count": null,
   "metadata": {},
   "outputs": [],
   "source": [
    "import pandas as pd\n",
    "import numpy as np\n",
    "from obspy import read, UTCDateTime\n",
    "import matplotlib.pyplot as plt\n",
    "fw_path = '/network/projects/aia/whale_call/LABELS/FW/'\n",
    "R0=1\n",
    "SNR0=1\n",
    "fw_filt = pd.read_csv(fw_path+'fw_filt.csv')\n",
    "# Create a column containing the average SNR of the same group-id\n",
    "fw_filt['SNR_avg'] = fw_filt.groupby('group_id')['SNR'].transform('mean')\n",
    "fw_filt = fw_filt[fw_filt['SNR_avg']<SNR0]\n",
    "# Create a column containing the average R of the same group-id\n",
    "fw_filt['R_avg'] = fw_filt.groupby('group_id')['R'].transform('mean')\n",
    "fw_filt = fw_filt[fw_filt['R_avg']<R0]\n",
    "## Get a random detection group\n",
    "fw_detection_group= fw_filt['group_id'].unique()\n",
    "group_id = np.random.choice(fw_detection_group)\n",
    "\n",
    "fw_data_sample = fw_filt[fw_filt['group_id']==group_id]\n",
    "\n",
    "for component in fw_data_sample.component.unique():\n",
    "\n",
    "    one_component = fw_data_sample[fw_data_sample.component == component].copy()\n",
    "    ## Get the ealiest time_window_start within the group\n",
    "    t0 = fw_data_sample.sort_values(by=['time_window_start']).iloc[0]['time_window_start']\n",
    "    ## Get the latest time_window_end within the group\n",
    "    t1 = fw_data_sample.sort_values(by=['time_window_start'],ascending=False).iloc[0]['time_window_end']\n",
    "    ## Get a list of unique call_start_time within the group\n",
    "    call_list = fw_data_sample['time_call_start'].unique()\n",
    "\n",
    "    sac_file = fw_data_sample.sample(n=1).iloc[0]['file_path']\n",
    "    t0 = UTCDateTime(t0)\n",
    "    t1 = UTCDateTime(t1)\n",
    "\n",
    "    st = read(sac_file)\n",
    "    st_sliced = st.slice(starttime=t0,endtime=t1)\n",
    "    data_len = len(st_sliced[0].data)\n",
    "    fig,ax = plt.subplots(figsize=(12,2))\n",
    "    ax.plot(np.arange(0,data_len)*0.01,st_sliced[0].data)\n",
    "    for call_t in call_list:\n",
    "        call_t = UTCDateTime(call_t)\n",
    "        ax.axvline(x=call_t-t0,color='red')\n",
    "        ax.set_title('Filtered SAC - Component: {}'.format(component))\n",
    "\n",
    "    fig,ax2 = plt.subplots(figsize=(8,4))\n",
    "    st_sliced.spectrogram(axes=ax2);\n",
    "    for call_t in call_list:\n",
    "        call_t = UTCDateTime(call_t)\n",
    "        ax2.axvline(x=call_t-t0,color='grey')\n",
    "        ax2.axvline(x=call_t+0.5-t0,color='green')"
   ]
  },
  {
   "attachments": {},
   "cell_type": "markdown",
   "metadata": {},
   "source": [
    "### A selected FW detection"
   ]
  },
  {
   "cell_type": "code",
   "execution_count": null,
   "metadata": {},
   "outputs": [],
   "source": [
    "import pandas as pd\n",
    "import numpy as np\n",
    "from obspy import read, UTCDateTime\n",
    "import matplotlib.pyplot as plt\n",
    "fw_path = '/network/projects/aia/whale_call/LABELS/FW/'\n",
    "\n",
    "fw_filt = pd.read_csv(fw_path+'fw_filt.csv')\n",
    "\n",
    "## Get a random detection group\n",
    "group_id=2395\n",
    "fw_data_sample = fw_filt[fw_filt['group_id']==group_id]\n",
    "\n",
    "for component in fw_data_sample.component.unique():\n",
    "\n",
    "    one_component = fw_data_sample[fw_data_sample.component == component].copy()\n",
    "    ## Get the ealiest time_window_start within the group\n",
    "    t0 = fw_data_sample.sort_values(by=['time_window_start']).iloc[0]['time_window_start']\n",
    "    ## Get the latest time_window_end within the group\n",
    "    t1 = fw_data_sample.sort_values(by=['time_window_start'],ascending=False).iloc[0]['time_window_end']\n",
    "    ## Get a list of unique call_start_time within the group\n",
    "    call_list = fw_data_sample['time_call_start'].unique()\n",
    "\n",
    "    sac_file = fw_data_sample.sample(n=1).iloc[0]['file_path']\n",
    "    t0 = UTCDateTime(t0)\n",
    "    t1 = UTCDateTime(t1)\n",
    "\n",
    "    st = read(sac_file)\n",
    "    st_sliced = st.slice(starttime=t0,endtime=t1)\n",
    "    data_len = len(st_sliced[0].data)\n",
    "    fig,ax = plt.subplots(figsize=(12,2))\n",
    "    ax.plot(np.arange(0,data_len)*0.01,st_sliced[0].data)\n",
    "    for call_t in call_list:\n",
    "        call_t = UTCDateTime(call_t)\n",
    "        ax.axvline(x=call_t-t0,color='red')\n",
    "        ax.axvline(x=call_t+0.5-t0,color='green')\n",
    "    ax.set_title('Filtered SAC - Component: {}'.format(component))\n",
    "\n",
    "    fig,ax2 = plt.subplots(figsize=(8,4))\n",
    "    st_sliced.spectrogram(axes=ax2);\n",
    "    for call_t in call_list:\n",
    "        call_t = UTCDateTime(call_t)\n",
    "        ax2.axvline(x=call_t-t0,color='grey')\n",
    "        ax2.axvline(x=call_t+0.5-t0,color='green')\n"
   ]
  },
  {
   "attachments": {},
   "cell_type": "markdown",
   "metadata": {},
   "source": [
    "### BW"
   ]
  },
  {
   "attachments": {},
   "cell_type": "markdown",
   "metadata": {},
   "source": [
    "#### Quality Metric Visualization"
   ]
  },
  {
   "cell_type": "code",
   "execution_count": null,
   "metadata": {},
   "outputs": [],
   "source": [
    "import pandas as pd\n",
    "import numpy as np\n",
    "from obspy import read, UTCDateTime\n",
    "import matplotlib.pyplot as plt\n",
    "fw_path = '/network/projects/aia/whale_call/LABELS/BW/'\n",
    "\n",
    "bw_filt = pd.read_csv(fw_path+'bw_filt.csv')\n",
    "## plot histogram of R and SNR in fw_filt  \n",
    "fig,ax = plt.subplots(1,2,figsize=(7,3))\n",
    "ax[0].hist(bw_filt['R'],bins=100)\n",
    "ax[0].set_xlabel('R')\n",
    "ax[0].set_ylabel('Count')\n",
    "ax[1].hist(bw_filt['SNR'],bins=100)\n",
    "ax[1].set_xlabel('SNR')\n",
    "ax[1].set_ylabel('Count')\n",
    "plt.show()\n",
    "\n"
   ]
  },
  {
   "cell_type": "code",
   "execution_count": null,
   "metadata": {},
   "outputs": [],
   "source": [
    "print(bw_filt['R'].quantile([0.1,0.25,0.5,0.75,0.9]))\n",
    "print(bw_filt['SNR'].quantile([0.1,0.25,0.5,0.75,0.9]))"
   ]
  },
  {
   "cell_type": "code",
   "execution_count": null,
   "metadata": {},
   "outputs": [],
   "source": [
    "## a heatmap showing the number of data points in each bin of R and SNR\n",
    "fig,ax = plt.subplots(1,1,figsize=(10,5))\n",
    "ax.scatter(bw_filt['R'],bw_filt['SNR'])\n",
    "ax.set_xlabel('R')\n",
    "ax.set_ylabel('SNR')\n",
    "plt.show()"
   ]
  },
  {
   "attachments": {},
   "cell_type": "markdown",
   "metadata": {},
   "source": [
    "#### A random BWC with high quality"
   ]
  },
  {
   "cell_type": "code",
   "execution_count": null,
   "metadata": {},
   "outputs": [],
   "source": [
    "fw_path = '/network/projects/aia/whale_call/LABELS/BW/'\n",
    "\n",
    "bw_filt = pd.read_csv(fw_path+'bw_filt.csv')\n",
    "R0 = 5 # set up the minimum R-index value for stronger signal\n",
    "SNR0 = 5# set up the minimum SNR value for stronger signal\n",
    "# filter fw_filt by R and SNR in one line\n",
    "print(len(bw_filt[(bw_filt['R']>R0) & (bw_filt['SNR']>SNR0)])/len(bw_filt))\n",
    "bw_data_sample = bw_filt[(bw_filt['R']>R0) & (bw_filt['SNR']>SNR0)].sample(n=1).iloc[0]\n",
    "\n",
    "sac_file = bw_data_sample['file_path']\n",
    "t0 = UTCDateTime(bw_data_sample['time_window_start'])\n",
    "t1 = UTCDateTime(bw_data_sample['time_window_end'])\n",
    "call_t = UTCDateTime(bw_data_sample['time_R_max'])\n",
    "\n",
    "st = read(sac_file)\n",
    "st_sliced = st.slice(starttime=t0,endtime=t1)\n",
    "data_len = len(st_sliced[0].data)\n",
    "fig,ax = plt.subplots(figsize=(12,2))\n",
    "ax.plot(np.arange(0,data_len)*0.01,st_sliced[0].data)\n",
    "ax.axvline(x=call_t-t0,color='red')\n",
    "# st_sliced.spectrogram();\n",
    "fig,ax2 = plt.subplots(figsize=(8,4))\n",
    "st_sliced.spectrogram(axes=ax2);\n",
    "ax2.axvline(x=call_t-t0-4,color='green')\n",
    "ax2.axvline(x=call_t-t0+4,color='green')\n"
   ]
  },
  {
   "attachments": {},
   "cell_type": "markdown",
   "metadata": {},
   "source": [
    "#### A random BWC with low quality"
   ]
  },
  {
   "cell_type": "code",
   "execution_count": null,
   "metadata": {},
   "outputs": [],
   "source": [
    "\n",
    "fw_path = '/network/projects/aia/whale_call/LABELS/BW/'\n",
    "bw_filt = pd.read_csv(fw_path+'bw_filt.csv')\n",
    "R0 = 1 # set up the minimum R-index value for stronger signal\n",
    "SNR0 = 1# set up the minimum SNR value for stronger signal\n",
    "# filter fw_filt by R and SNR in one line\n",
    "print(len(bw_filt[(bw_filt['R']<R0) & (bw_filt['SNR']<SNR0)])/len(bw_filt))\n",
    "bw_data_sample = bw_filt[(bw_filt['R']<R0) & (bw_filt['SNR']<SNR0)].sample(n=1).iloc[0]\n",
    "\n",
    "sac_file = bw_data_sample['file_path']\n",
    "t0 = UTCDateTime(bw_data_sample['time_window_start'])\n",
    "t1 = UTCDateTime(bw_data_sample['time_window_end'])\n",
    "call_t = UTCDateTime(bw_data_sample['time_R_max'])\n",
    "\n",
    "st = read(sac_file)\n",
    "st_sliced = st.slice(starttime=t0,endtime=t1)\n",
    "data_len = len(st_sliced[0].data)\n",
    "fig,ax = plt.subplots(figsize=(12,2))\n",
    "ax.plot(np.arange(0,data_len)*0.01,st_sliced[0].data)\n",
    "ax.axvline(x=call_t-t0,color='red')\n",
    "\n",
    "fig,ax2 = plt.subplots(figsize=(8,4))\n",
    "st_sliced.spectrogram(axes=ax2);\n",
    "# st_sliced.spectrogram();\n",
    "ax2.axvline(x=call_t-t0-4,color='grey')\n",
    "ax2.axvline(x=call_t+4-t0,color='green')"
   ]
  },
  {
   "attachments": {},
   "cell_type": "markdown",
   "metadata": {},
   "source": [
    "#### A random BW detection with high quality"
   ]
  },
  {
   "cell_type": "code",
   "execution_count": null,
   "metadata": {},
   "outputs": [],
   "source": [
    "import pandas as pd\n",
    "import numpy as np\n",
    "from obspy import read, UTCDateTime\n",
    "fw_path = '/network/projects/aia/whale_call/LABELS/BW/'\n",
    "\n",
    "bw_filt = pd.read_csv(fw_path+'bw_filt.csv')\n",
    "R0=5\n",
    "SNR0=5\n",
    "# Create a column containing the average SNR of the same group-id\n",
    "bw_filt['SNR_avg'] = bw_filt.groupby('group_id')['SNR'].transform('mean')\n",
    "bw_filt = bw_filt[bw_filt['SNR_avg']>SNR0]\n",
    "# Create a column containing the average R of the same group-id\n",
    "bw_filt['R_avg'] = bw_filt.groupby('group_id')['R'].transform('mean')\n",
    "bw_filt = bw_filt[bw_filt['R_avg']>R0]\n",
    "## Get a random detection group\n",
    "bw_detection_group= bw_filt['group_id'].unique()\n",
    "group_id = np.random.choice(bw_detection_group)\n",
    "\n",
    "bw_data_sample = bw_filt[bw_filt['group_id']==group_id]\n",
    "\n",
    "for component in bw_data_sample.component.unique():\n",
    "\n",
    "    one_component = bw_data_sample[bw_data_sample.component == component].copy()\n",
    "    ## Get the ealiest time_window_start within the group\n",
    "    t0 = bw_data_sample.sort_values(by=['time_window_start']).iloc[0]['time_window_start']\n",
    "    ## Get the latest time_window_end within the group\n",
    "    t1 = bw_data_sample.sort_values(by=['time_window_start'],ascending=False).iloc[0]['time_window_end']\n",
    "    ## Get a list of unique call_start_time within the group\n",
    "    call_list = bw_data_sample['time_R_max'].unique()\n",
    "\n",
    "    sac_file = bw_data_sample.sample(n=1).iloc[0]['file_path']\n",
    "    t0 = UTCDateTime(t0)\n",
    "    t1 = UTCDateTime(t1)\n",
    "\n",
    "    st = read(sac_file)\n",
    "    st_sliced = st.slice(starttime=t0,endtime=t1)\n",
    "    data_len = len(st_sliced[0].data)\n",
    "    fig,ax = plt.subplots(figsize=(12,2))\n",
    "    ax.plot(np.arange(0,data_len)*0.01,st_sliced[0].data)\n",
    "    for call_t in call_list:\n",
    "        call_t = UTCDateTime(call_t)\n",
    "        ax.axvline(x=call_t-t0,color='red')\n",
    "        ax.set_title('Filtered SAC - Component: {}'.format(component))\n",
    "\n",
    "    fig,ax2 = plt.subplots(figsize=(8,4))\n",
    "    st_sliced.spectrogram(axes=ax2);\n",
    "    for call_t in call_list:\n",
    "        call_t = UTCDateTime(call_t)\n",
    "        ax2.axvline(x=call_t-t0-4,color='grey')\n",
    "        ax2.axvline(x=call_t+4-t0,color='green')"
   ]
  },
  {
   "attachments": {},
   "cell_type": "markdown",
   "metadata": {},
   "source": [
    "#### A random BW detection with low quality"
   ]
  },
  {
   "cell_type": "code",
   "execution_count": null,
   "metadata": {},
   "outputs": [],
   "source": [
    "import pandas as pd\n",
    "import numpy as np\n",
    "from obspy import read, UTCDateTime\n",
    "fw_path = '/network/projects/aia/whale_call/LABELS/BW/'\n",
    "\n",
    "bw_filt = pd.read_csv(fw_path+'bw_filt.csv')\n",
    "R0=1\n",
    "SNR0=1\n",
    "# Create a column containing the average SNR of the same group-id\n",
    "bw_filt['SNR_avg'] = bw_filt.groupby('group_id')['SNR'].transform('mean')\n",
    "bw_filt = bw_filt[bw_filt['SNR_avg']<SNR0]\n",
    "# Create a column containing the average R of the same group-id\n",
    "bw_filt['R_avg'] = bw_filt.groupby('group_id')['R'].transform('mean')\n",
    "bw_filt = bw_filt[bw_filt['R_avg']<R0]\n",
    "## Get a random detection group\n",
    "bw_detection_group= bw_filt['group_id'].unique()\n",
    "group_id = np.random.choice(bw_detection_group)\n",
    "\n",
    "bw_data_sample = bw_filt[bw_filt['group_id']==group_id]\n",
    "\n",
    "for component in bw_data_sample.component.unique():\n",
    "\n",
    "    one_component = bw_data_sample[bw_data_sample.component == component].copy()\n",
    "    ## Get the ealiest time_window_start within the group\n",
    "    t0 = bw_data_sample.sort_values(by=['time_window_start']).iloc[0]['time_window_start']\n",
    "    ## Get the latest time_window_end within the group\n",
    "    t1 = bw_data_sample.sort_values(by=['time_window_start'],ascending=False).iloc[0]['time_window_end']\n",
    "    ## Get a list of unique call_start_time within the group\n",
    "    call_list = bw_data_sample['time_R_max'].unique()\n",
    "\n",
    "    sac_file = bw_data_sample.sample(n=1).iloc[0]['file_path']\n",
    "    t0 = UTCDateTime(t0)\n",
    "    t1 = UTCDateTime(t1)\n",
    "\n",
    "    st = read(sac_file)\n",
    "    st_sliced = st.slice(starttime=t0,endtime=t1)\n",
    "    data_len = len(st_sliced[0].data)\n",
    "    fig,ax = plt.subplots(figsize=(12,2))\n",
    "    ax.plot(np.arange(0,data_len)*0.01,st_sliced[0].data)\n",
    "    for call_t in call_list:\n",
    "        call_t = UTCDateTime(call_t)\n",
    "        ax.axvline(x=call_t-t0,color='red')\n",
    "        ax.set_title('Filtered SAC - Component: {}'.format(component))\n",
    "\n",
    "    fig,ax2 = plt.subplots(figsize=(8,4))\n",
    "    st_sliced.spectrogram(axes=ax2);\n",
    "    for call_t in call_list:\n",
    "        call_t = UTCDateTime(call_t)\n",
    "        ax2.axvline(x=call_t-t0-4,color='grey')\n",
    "        ax2.axvline(x=call_t+4-t0,color='green')"
   ]
  },
  {
   "cell_type": "code",
   "execution_count": null,
   "metadata": {},
   "outputs": [],
   "source": []
  }
 ],
 "metadata": {
  "kernelspec": {
   "display_name": "whale",
   "language": "python",
   "name": "python3"
  },
  "language_info": {
   "codemirror_mode": {
    "name": "ipython",
    "version": 3
   },
   "file_extension": ".py",
   "mimetype": "text/x-python",
   "name": "python",
   "nbconvert_exporter": "python",
   "pygments_lexer": "ipython3",
   "version": "3.9.12"
  }
 },
 "nbformat": 4,
 "nbformat_minor": 2
}
