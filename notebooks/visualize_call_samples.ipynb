{
 "cells": [
  {
   "attachments": {},
   "cell_type": "markdown",
   "metadata": {},
   "source": [
    "## visualize selected call samples"
   ]
  },
  {
   "attachments": {},
   "cell_type": "markdown",
   "metadata": {},
   "source": [
    "### A selected Fin Whale Call"
   ]
  },
  {
   "cell_type": "code",
   "execution_count": null,
   "metadata": {},
   "outputs": [],
   "source": [
    "from obspy import read, UTCDateTime\n",
    "\n",
    "data_path='/network/projects/aia/whale_call/RAW/'\n",
    "station_name = 'ICQ'\n",
    "channel = 'HHZ'\n",
    "call_t1 = UTCDateTime(\"20201029051032\")\n",
    "det_win = 120\n",
    "data_year = call_t1.year\n",
    "data_month = call_t1.month\n",
    "data_day = call_t1.day\n",
    "\n",
    "date_string = '%s%02d%02d'%(data_year,data_month,data_day)\n",
    "file_patterns = data_path+date_string+'/'+ '%s.%02d.%02d.CN'%(data_year,data_month,data_day)+'*'+station_name+'*Z*.SAC'\n",
    "\n",
    "st = read(data_path+date_string+\"/\"+'%s.%02d.%02d.CN'%(data_year,data_month,data_day)+\".%s..%s.SAC\"%(station_name,channel))\n",
    "# st.taper(max_percentage=0.,type='cosine')\n",
    "st.filter(\n",
    "        \"bandpass\", freqmin=12, freqmax=32, zerophase=True\n",
    "    )\n",
    "T0 = UTCDateTime(date_string);\n",
    "T1= st[0].meta['starttime'];\n",
    "rel_t=2*(T0-T1);\n",
    "call_t1 =call_t1-rel_t;\n",
    "call_t2 = call_t1+det_win;\n",
    "\n",
    "st_sliced = st.slice(starttime=call_t1,endtime=call_t2)\n",
    "st_sliced.plot()\n",
    "st_sliced.spectrogram();\n",
    "\n"
   ]
  },
  {
   "attachments": {},
   "cell_type": "markdown",
   "metadata": {},
   "source": [
    "### A selected BW Call"
   ]
  },
  {
   "cell_type": "code",
   "execution_count": null,
   "metadata": {},
   "outputs": [],
   "source": [
    "from obspy import read, UTCDateTime\n",
    "\n",
    "data_path='/network/projects/aia/whale_call/RAW/'\n",
    "station_name = 'SNFQ'\n",
    "channel = 'HHZ'\n",
    "call_t1 = UTCDateTime(\"20210822063600\")\n",
    "det_win = 720\n",
    "data_year = call_t1.year\n",
    "data_month = call_t1.month\n",
    "data_day = call_t1.day\n",
    "\n",
    "date_string = '%s%02d%02d'%(data_year,data_month,data_day)\n",
    "file_patterns = data_path+date_string+'/'+ '%s.%02d.%02d.CN'%(data_year,data_month,data_day)+'*'+station_name+'*Z*.SAC'\n",
    "\n",
    "st = read(data_path+date_string+\"/\"+'%s.%02d.%02d.CN'%(data_year,data_month,data_day)+\".%s..%s.SAC\"%(station_name,channel))\n",
    "# st.taper(max_percentage=0.,type='cosine')\n",
    "st.filter(\n",
    "        \"bandpass\", freqmin=12, freqmax=32, zerophase=True\n",
    "    )\n",
    "T0 = UTCDateTime(date_string);\n",
    "T1= st[0].meta['starttime'];\n",
    "rel_t=2*(T0-T1);\n",
    "call_t1 =call_t1-rel_t;\n",
    "call_t2 = call_t1+det_win;\n",
    "\n",
    "st_sliced = st.slice(starttime=call_t1,endtime=call_t2)\n",
    "st_sliced.plot()\n",
    "st_sliced.spectrogram();\n",
    "\n"
   ]
  },
  {
   "attachments": {},
   "cell_type": "markdown",
   "metadata": {},
   "source": [
    "## Visualize random samples from raw data"
   ]
  },
  {
   "attachments": {},
   "cell_type": "markdown",
   "metadata": {},
   "source": [
    "### FW"
   ]
  },
  {
   "cell_type": "code",
   "execution_count": null,
   "metadata": {},
   "outputs": [],
   "source": [
    "import pandas as pd\n",
    "import numpy as np\n",
    "from obspy import read, UTCDateTime\n",
    "import matplotlib.pyplot as plt\n",
    "fw_path = '/network/projects/aia/whale_call/LABELS/FW/'\n",
    "\n",
    "fw_filt = pd.read_csv(fw_path+'fw_filt.csv')\n",
    "\n",
    "R0 = 3 # set up the minimum R-index value for stronger signal\n",
    "\n",
    "fw_data_sample = fw_filt[fw_filt['R']>R0].sample(n=1).iloc[0]\n",
    "\n",
    "sac_file = fw_data_sample['file_path']\n",
    "t0 = UTCDateTime(fw_data_sample['time_window_start'])\n",
    "t1 = UTCDateTime(fw_data_sample['time_window_end'])\n",
    "call_t = UTCDateTime(fw_data_sample['time_call_start'])\n",
    "\n",
    "st = read(sac_file)\n",
    "st_sliced = st.slice(starttime=t0,endtime=t1)\n",
    "data_len = len(st_sliced[0].data)\n",
    "fig,ax = plt.subplots(figsize=(12,2))\n",
    "ax.plot(np.arange(0,data_len)*0.01,st_sliced[0].data)\n",
    "ax.axvline(x=call_t-t0,color='red')\n",
    "st_sliced.spectrogram();\n",
    "\n"
   ]
  },
  {
   "cell_type": "code",
   "execution_count": null,
   "metadata": {},
   "outputs": [],
   "source": [
    "fw_filt['R'].quantile([.1,.15,.5,.7,.9])"
   ]
  },
  {
   "attachments": {},
   "cell_type": "markdown",
   "metadata": {},
   "source": [
    "### BW"
   ]
  },
  {
   "cell_type": "code",
   "execution_count": null,
   "metadata": {},
   "outputs": [],
   "source": [
    "import pandas as pd\n",
    "import numpy as np\n",
    "from obspy import read, UTCDateTime\n",
    "import matplotlib.pyplot as plt\n",
    "bw_path = '/network/projects/aia/whale_call/LABELS/BW/'\n",
    "\n",
    "bw_filt = pd.read_csv(bw_path+'bw_filt.csv')\n",
    "\n",
    "R0 = 0.8# set up the minimum R-index value for stronger signal\n",
    "\n",
    "data_sample = bw_filt[bw_filt['R']>R0].sample(n=1).iloc[0]\n",
    "\n",
    "sac_file = data_sample['file_path']\n",
    "t0 = UTCDateTime(data_sample['time_window_start'])\n",
    "t1 = UTCDateTime(data_sample['time_window_end'])\n",
    "call_t = UTCDateTime(data_sample['time_call_start'])\n",
    "\n",
    "st = read(sac_file)\n",
    "st.taper(max_percentage=0.,type='cosine')\n",
    "st.filter(\n",
    "        \"bandpass\", freqmin=10, freqmax=32, zerophase=True\n",
    "    )\n",
    "\n",
    "st_sliced = st.slice(starttime=t0,endtime=t1)\n",
    "fig,ax = plt.subplots(figsize=(12,2))\n",
    "ax.plot(np.arange(0,40.01,0.01),st_sliced[0].data)\n",
    "ax.axvline(x=call_t-t0,color='red')\n",
    "st_sliced.spectrogram();\n",
    "\n"
   ]
  },
  {
   "cell_type": "code",
   "execution_count": null,
   "metadata": {},
   "outputs": [],
   "source": [
    "bw_filt['R'].quantile([.1,.15,.5,.7,.9])"
   ]
  },
  {
   "cell_type": "code",
   "execution_count": null,
   "metadata": {},
   "outputs": [],
   "source": []
  }
 ],
 "metadata": {
  "kernelspec": {
   "display_name": "whale",
   "language": "python",
   "name": "python3"
  },
  "language_info": {
   "codemirror_mode": {
    "name": "ipython",
    "version": 3
   },
   "file_extension": ".py",
   "mimetype": "text/x-python",
   "name": "python",
   "nbconvert_exporter": "python",
   "pygments_lexer": "ipython3",
   "version": "3.9.12"
  }
 },
 "nbformat": 4,
 "nbformat_minor": 2
}
