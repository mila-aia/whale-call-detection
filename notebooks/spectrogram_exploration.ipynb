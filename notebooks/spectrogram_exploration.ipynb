{
 "cells": [
  {
   "cell_type": "code",
   "execution_count": null,
   "metadata": {},
   "outputs": [],
   "source": [
    "import pandas as pd\n",
    "from obspy import read, UTCDateTime\n",
    "import matplotlib.pyplot as plt\n",
    "from matplotlib import mlab\n",
    "import numpy as np\n",
    "import glob\n",
    "import librosa"
   ]
  },
  {
   "cell_type": "code",
   "execution_count": null,
   "metadata": {},
   "outputs": [],
   "source": [
    "data_path='/network/projects/aia/whale_call/'\n",
    "center_time = UTCDateTime(\"20210309112910\")\n",
    "detection_win_len = 120 # lenth of detection window in s\n",
    "station_name = 'PMAQ'\n",
    "data_year = center_time.year\n",
    "data_month = center_time.month\n",
    "data_day = center_time.day\n",
    "start_time = center_time - detection_win_len/2\n",
    "end_time = center_time + detection_win_len/2"
   ]
  },
  {
   "cell_type": "code",
   "execution_count": null,
   "metadata": {},
   "outputs": [],
   "source": [
    "date_string = '%s%02d%02d'%(data_year,data_month,data_day)\n",
    "file_patterns = data_path+date_string+'/'+ '%s.%02d.%02d.CN'%(data_year,data_month,data_day)+'*'+station_name+'*.SAC'\n",
    "sac_files = glob.glob(file_patterns)"
   ]
  },
  {
   "cell_type": "code",
   "execution_count": null,
   "metadata": {},
   "outputs": [],
   "source": [
    "sac_data_allchannels = read(sac_files[0],starttime=start_time,endtime=end_time)\n",
    "for file_id in range(1,len(sac_files)):\n",
    "    sac_data_allchannels += read(sac_files[file_id],starttime=start_time,endtime=end_time)"
   ]
  },
  {
   "cell_type": "code",
   "execution_count": null,
   "metadata": {},
   "outputs": [],
   "source": [
    "sac_data_allchannels.plot(size=(1200, 400));"
   ]
  },
  {
   "attachments": {},
   "cell_type": "markdown",
   "metadata": {},
   "source": [
    "## Perform Bandpass filtering"
   ]
  },
  {
   "cell_type": "code",
   "execution_count": null,
   "metadata": {},
   "outputs": [],
   "source": [
    "freq_min = 12\n",
    "freq_max = 32\n",
    "\n",
    "sac_data_allchannels_filter = []\n",
    "for trace in sac_data_allchannels:\n",
    "    trace_filt =trace.copy()\n",
    "    trace_filt.filter('bandpass', freqmin=freq_min, freqmax=freq_max,zerophase=True)\n",
    "    sac_data_allchannels_filter.append(trace_filt)"
   ]
  },
  {
   "attachments": {},
   "cell_type": "markdown",
   "metadata": {},
   "source": [
    "### Visualize the filtering for a single channel"
   ]
  },
  {
   "cell_type": "code",
   "execution_count": null,
   "metadata": {},
   "outputs": [],
   "source": [
    "freq_min = 12\n",
    "freq_max = 32\n",
    "tr = sac_data_allchannels[1]\n",
    "tr_filt = sac_data_allchannels_filter[1]\n",
    "# tr_filt = tr.copy()\n",
    "# tr_filt.filter('bandpass', freqmin=freq_min, freqmax=freq_max,zerophase=True)\n",
    "\n",
    "# Now let's plot the raw and filtered data...\n",
    "time_truncated =20 # truncate the first 20 samples  \n",
    "                    #(~0.2s) to neglect the large spike due to a bandpass filter\n",
    "t = np.arange(0, tr.stats.npts / tr.stats.sampling_rate, tr.stats.delta)\n",
    "plt.subplot(211)\n",
    "plt.plot(t[time_truncated:], tr.data[time_truncated:], 'k')\n",
    "plt.ylabel('Raw Data')\n",
    "plt.subplot(212)\n",
    "plt.plot(t[time_truncated:], tr_filt.data[time_truncated:], 'k')\n",
    "plt.ylabel('Bandpassed Data')\n",
    "plt.xlabel('Time [s]')\n",
    "plt.suptitle(tr.stats.starttime)\n",
    "plt.show()"
   ]
  },
  {
   "cell_type": "code",
   "execution_count": null,
   "metadata": {},
   "outputs": [],
   "source": [
    "tr_filt.spectrogram(samp_rate=100,wlen=1,per_lap=0.5,dbscale=False)"
   ]
  },
  {
   "attachments": {},
   "cell_type": "markdown",
   "metadata": {},
   "source": [
    "## Spectrogram Calculated Manually"
   ]
  },
  {
   "attachments": {},
   "cell_type": "markdown",
   "metadata": {},
   "source": [
    "### Data and parameters"
   ]
  },
  {
   "cell_type": "code",
   "execution_count": null,
   "metadata": {},
   "outputs": [],
   "source": [
    "import math\n",
    "def _nearest_pow_2(x):\n",
    "    \"\"\"\n",
    "    Find power of two nearest to x\n",
    "\n",
    "    >>> _nearest_pow_2(3)\n",
    "    2.0\n",
    "    >>> _nearest_pow_2(15)\n",
    "    16.0\n",
    "\n",
    "    :type x: float\n",
    "    :param x: Number\n",
    "    :rtype: int\n",
    "    :return: Nearest power of 2 to x\n",
    "    \"\"\"\n",
    "    a = math.pow(2, math.ceil(np.log2(x)))\n",
    "    b = math.pow(2, math.floor(np.log2(x)))\n",
    "    if abs(a - x) < abs(b - x):\n",
    "        return a\n",
    "    else:\n",
    "        return b\n",
    "\n",
    "signal_data = tr_filt.data\n",
    "sample_rate = tr_filt.stats.sampling_rate\n",
    "win_length = 1  # window length in s\n",
    "hop_length = 0.5 # hop length in s, i.e. the distance between each segment.\n",
    "win_size = int(win_length*sample_rate)\n",
    "nfft = int(_nearest_pow_2(win_size))\n",
    "hop_size = int(hop_length*sample_rate)\n",
    "\n"
   ]
  },
  {
   "attachments": {},
   "cell_type": "markdown",
   "metadata": {},
   "source": [
    "### Librosa spectrogram"
   ]
  },
  {
   "cell_type": "code",
   "execution_count": null,
   "metadata": {},
   "outputs": [],
   "source": [
    "import librosa.display     \n",
    "spec=librosa.stft(signal_data,\n",
    "                 n_fft=nfft,\n",
    "                 win_length = win_size, \n",
    "                 hop_length=hop_size)\n",
    "spec_power = np.abs(spec)**2\n",
    "plt.imshow(spec_power)\n",
    "spec_power.shape"
   ]
  },
  {
   "attachments": {},
   "cell_type": "markdown",
   "metadata": {},
   "source": [
    "## Mlab/Obspy Spectrogram"
   ]
  },
  {
   "cell_type": "code",
   "execution_count": null,
   "metadata": {},
   "outputs": [],
   "source": [
    "import os\n",
    "import math\n",
    "\n",
    "import numpy as np\n",
    "from matplotlib import mlab\n",
    "from matplotlib.colors import Normalize\n",
    "\n",
    "from obspy.imaging.cm import obspy_sequential\n",
    "\n",
    "sample_rate = float(sample_rate)\n",
    "\n",
    "spec_mlab, freq, time = mlab.specgram(signal_data, \n",
    "                                      Fs=sample_rate, \n",
    "                                      NFFT=nfft,\n",
    "                                      noverlap=hop_size,\n",
    "                                      mode='magnitude')\n",
    "spec_power_mlab = spec_mlab**2\n",
    "spec_power_mlab_db =10*np.log10(spec_power_mlab)\n",
    "\n",
    "\n",
    "spec_power_mlab.shape\n",
    "\n",
    "fig,ax=plt.subplots(2,1,figsize=(6,5))\n",
    "ax[0].imshow(spec_power_mlab, origin='lower', cmap='jet', interpolation='nearest', aspect='auto')\n",
    "ax[1].imshow(spec_power_mlab_db, origin='lower', cmap='jet', interpolation='nearest', aspect='auto')\n"
   ]
  },
  {
   "attachments": {},
   "cell_type": "markdown",
   "metadata": {},
   "source": [
    "## Custom Code"
   ]
  },
  {
   "cell_type": "code",
   "execution_count": null,
   "metadata": {},
   "outputs": [],
   "source": [
    "data = signal_data\n",
    "fs = sample_rate\n",
    "fft_size= nfft\n",
    "pad_end_size = fft_size          # the last segment can overlap the end of the data array by no more than one window size\n",
    "total_segments = np.int32(np.ceil(len(data) / np.float32(hop_size)))\n",
    "t_max = len(data) / np.float32(fs)\n",
    "\n",
    "window = np.hanning(fft_size)  # our half cosine window\n",
    "inner_pad = np.zeros(fft_size) # the zeros which will be used to double each segment size\n",
    "\n",
    "proc = np.concatenate((data, np.zeros(pad_end_size)))              # the data to process\n",
    "result = np.empty((total_segments, fft_size), dtype=np.float32)    # space to hold the result\n",
    "\n",
    "for i in range(total_segments):                      # for each segment\n",
    "    current_hop = hop_size * i                        # figure out the current segment offset\n",
    "    segment = proc[current_hop:current_hop+fft_size]  # get the current segment\n",
    "    windowed = segment * window                       # multiply by the half cosine function\n",
    "    # padded = np.append(windowed, inner_pad)           # add 0s to double the length of the data\n",
    "    spectrum = np.fft.fft(windowed) / fft_size          # take the Fourier Transform and scale by the number of samples\n",
    "    autopower = np.abs(spectrum * np.conj(spectrum))  # find the autopower spectrum\n",
    "    result[i, :] = autopower[:fft_size]               # append to the results array\n",
    "\n",
    "\n",
    "result_db = 10*np.log10(result)          # scale to db\n",
    "\n",
    "fig,ax=plt.subplots(2,1,figsize=(6,5))\n",
    "ax[0].imshow(result[:,:64].T, origin='lower', cmap='jet', interpolation='nearest', aspect='auto')\n",
    "ax[1].imshow(result_db[:,:64].T, origin='lower', cmap='jet', interpolation='nearest', aspect='auto')\n"
   ]
  },
  {
   "attachments": {},
   "cell_type": "markdown",
   "metadata": {},
   "source": [
    "## The sum of power spectrogram of all channels"
   ]
  },
  {
   "cell_type": "code",
   "execution_count": null,
   "metadata": {},
   "outputs": [],
   "source": [
    "spec_power_sum = 0\n",
    "for trace in sac_data_allchannels_filter:\n",
    "    signal_data = trace.data\n",
    "    spec_mlab, freq, time = mlab.specgram(signal_data, \n",
    "                                        Fs=sample_rate, \n",
    "                                        NFFT=nfft,\n",
    "                                        noverlap=hop_size,\n",
    "                                        mode='magnitude')\n",
    "    spec_power_mlab = spec_mlab**2\n",
    "    spec_power_sum += spec_power_mlab\n",
    "\n",
    "spec_power_sum_db = 10*np.log10(spec_power_sum)\n",
    "\n",
    "fig,ax=plt.subplots(2,1,figsize=(6,5))\n",
    "ax[0].imshow(spec_power_sum, origin='lower', cmap='jet', interpolation='nearest', aspect='auto')\n",
    "ax[1].imshow(spec_power_sum_db, origin='lower', cmap='jet', interpolation='nearest', aspect='auto')\n"
   ]
  },
  {
   "cell_type": "code",
   "execution_count": null,
   "metadata": {},
   "outputs": [],
   "source": []
  }
 ],
 "metadata": {
  "kernelspec": {
   "display_name": "whale",
   "language": "python",
   "name": "python3"
  },
  "language_info": {
   "codemirror_mode": {
    "name": "ipython",
    "version": 3
   },
   "file_extension": ".py",
   "mimetype": "text/x-python",
   "name": "python",
   "nbconvert_exporter": "python",
   "pygments_lexer": "ipython3",
   "version": "3.9.12"
  },
  "vscode": {
   "interpreter": {
    "hash": "18e4029a2df6ccc2263d21f79565dbbc86418c6d27dddb59d3273cc9e38186c7"
   }
  }
 },
 "nbformat": 4,
 "nbformat_minor": 4
}
