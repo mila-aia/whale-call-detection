{
 "cells": [
  {
   "cell_type": "code",
   "execution_count": null,
   "metadata": {},
   "outputs": [],
   "source": [
    "import pandas as pd\n",
    "from obspy import read, UTCDateTime\n",
    "from whale.utils import cal_spectrogram,show_spectrogram\n",
    "from obspy.core import read\n",
    "from pathlib import Path\n"
   ]
  },
  {
   "cell_type": "code",
   "execution_count": null,
   "metadata": {},
   "outputs": [],
   "source": [
    "in_path = '/network/projects/aia/whale_call/LABELS/FW/'\n",
    "inp_df = pd.read_csv(in_path+'fw_filt.csv')\n",
    "out_path = '/network/projects/aia/whale_call/LABELS/FWC_1CH_ALL/';\n",
    "output_dir = Path(out_path).expanduser().resolve()\n",
    "output_dir.mkdir(parents=True, exist_ok=True)\n",
    "\n",
    "# split inp_df into train, valid, test\n",
    "train = inp_df.sample(frac=0.8,random_state=200)\n",
    "test = inp_df.drop(train.index)\n",
    "valid = test.sample(frac=0.5,random_state=200)\n",
    "test = test.drop(valid.index)\n",
    "# save train, valid, test\n",
    "train.to_csv(output_dir / 'train.csv',index=False)\n",
    "valid.to_csv(output_dir / 'valid.csv',index=False)\n",
    "test.to_csv(output_dir / 'test.csv',index=False)\n"
   ]
  },
  {
   "cell_type": "code",
   "execution_count": null,
   "metadata": {},
   "outputs": [],
   "source": []
  }
 ],
 "metadata": {
  "kernelspec": {
   "display_name": "whale",
   "language": "python",
   "name": "python3"
  },
  "language_info": {
   "codemirror_mode": {
    "name": "ipython",
    "version": 3
   },
   "file_extension": ".py",
   "mimetype": "text/x-python",
   "name": "python",
   "nbconvert_exporter": "python",
   "pygments_lexer": "ipython3",
   "version": "3.9.12"
  }
 },
 "nbformat": 4,
 "nbformat_minor": 2
}
