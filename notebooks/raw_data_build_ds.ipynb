{
 "cells": [
  {
   "attachments": {},
   "cell_type": "markdown",
   "metadata": {},
   "source": [
    "### Load SAC files"
   ]
  },
  {
   "cell_type": "code",
   "execution_count": null,
   "metadata": {},
   "outputs": [],
   "source": [
    "import glob\n",
    "directory_path = '../whale-detection-signal-processing/data/sac_data/'\n",
    "list_files = glob.glob(directory_path+'/*/*/*.SAC')"
   ]
  },
  {
   "cell_type": "code",
   "execution_count": null,
   "metadata": {},
   "outputs": [],
   "source": [
    "print(\"Total number of files:\",len(list_files))"
   ]
  },
  {
   "cell_type": "code",
   "execution_count": null,
   "metadata": {},
   "outputs": [],
   "source": [
    "from collections import Counter"
   ]
  },
  {
   "cell_type": "code",
   "execution_count": null,
   "metadata": {},
   "outputs": [],
   "source": [
    "file_extensions = Counter([file[-7:-4] for file in list_files]).keys()\n",
    "sta_names = [\"PMAQ\",\"ICQ\",\"SNFQ\",\"RISQ\",\"SMQ\",\"CNQ\"]"
   ]
  },
  {
   "attachments": {},
   "cell_type": "markdown",
   "metadata": {},
   "source": [
    "### Create full dict with station names, dates, and filenames"
   ]
  },
  {
   "cell_type": "code",
   "execution_count": null,
   "metadata": {},
   "outputs": [],
   "source": [
    "raw_data = dict.fromkeys(sta_names)\n",
    "\n",
    "for sta in sta_names:\n",
    "    print(sta)\n",
    "    sta_files = [s for s in list_files if sta in s.split('/')[-1]]\n",
    "    raw_data[sta] = dict.fromkeys(set([s.split('/')[-2] for s in sta_files]))\n",
    "    for date_sta in raw_data[sta].keys():\n",
    "        date_files = [s for s in sta_files if s.split('/')[-2] == date_sta]\n",
    "        raw_data[sta][date_sta] = dict(zip(\n",
    "            [extension[-7:-4] for extension in date_files], \n",
    "            [filename for filename in date_files]\n",
    "            ))\n"
   ]
  },
  {
   "cell_type": "code",
   "execution_count": null,
   "metadata": {},
   "outputs": [],
   "source": [
    "#### Save\n",
    "import json\n",
    "with open('data/raw_dataset.json', 'w') as fp:\n",
    "    json.dump(raw_data, fp)"
   ]
  },
  {
   "attachments": {},
   "cell_type": "markdown",
   "metadata": {},
   "source": [
    "### Create dict with sac value"
   ]
  },
  {
   "cell_type": "code",
   "execution_count": null,
   "metadata": {},
   "outputs": [],
   "source": [
    "\"\"\"\n",
    "from pysmo import SacIO\n",
    "\n",
    "raw_data = dict.fromkeys(sta_names)\n",
    "cpt=0\n",
    "for sta in sta_names[0:1]:\n",
    "    sta_files = [s for s in list_files if sta in s.split('/')[-1]]\n",
    "    print(len(sta_files))\n",
    "    raw_data[sta] = dict.fromkeys(set([s.split('/')[-2] for s in sta_files]))\n",
    "    for date_sta in list(raw_data[sta].keys())[:100]:\n",
    "        date_files = [s for s in sta_files if s.split('/')[-2] == date_sta]\n",
    "        cpt = cpt+len(date_files)\n",
    "        raw_data[sta][date_sta] = dict(zip(\n",
    "            [extension[-7:-4] for extension in date_files], \n",
    "            [SacIO.from_file(filename).data for filename in date_files]\n",
    "            ))\n",
    "        print(cpt)\n",
    "\"\"\""
   ]
  },
  {
   "cell_type": "code",
   "execution_count": null,
   "metadata": {},
   "outputs": [],
   "source": [
    "\"\"\"\n",
    "import pickle\n",
    "\n",
    "with open('file.pkl', 'wb') as pickle_file:\n",
    "    pickle.dump(raw_data, pickle_file, protocol=pickle.HIGHEST_PROTOCOL)\n",
    "\"\"\""
   ]
  },
  {
   "cell_type": "code",
   "execution_count": null,
   "metadata": {},
   "outputs": [],
   "source": [
    "\"\"\"\n",
    "with open('file.pkl','rb') as f:\n",
    "    x = pickle.load(f)\n",
    "\"\"\""
   ]
  },
  {
   "cell_type": "code",
   "execution_count": null,
   "metadata": {},
   "outputs": [],
   "source": [
    "\"\"\"len(x['PMAQ']['20210730']['HHE'])\"\"\""
   ]
  }
 ],
 "metadata": {
  "kernelspec": {
   "display_name": "signal-processing",
   "language": "python",
   "name": "python3"
  },
  "language_info": {
   "codemirror_mode": {
    "name": "ipython",
    "version": 3
   },
   "file_extension": ".py",
   "mimetype": "text/x-python",
   "name": "python",
   "nbconvert_exporter": "python",
   "pygments_lexer": "ipython3",
   "version": "3.10.8 (main, Nov 24 2022, 08:09:04) [Clang 14.0.6 ]"
  },
  "vscode": {
   "interpreter": {
    "hash": "dd5bd5b3cde2f6b22ba9fb4d1e8077806a6ad2000fbc2bec6d807c66178fbb91"
   }
  }
 },
 "nbformat": 4,
 "nbformat_minor": 2
}
