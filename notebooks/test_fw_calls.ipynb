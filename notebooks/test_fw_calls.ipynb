{
 "cells": [
  {
   "attachments": {},
   "cell_type": "markdown",
   "metadata": {},
   "source": [
    "## visualize selected call samples"
   ]
  },
  {
   "cell_type": "code",
   "execution_count": null,
   "metadata": {},
   "outputs": [],
   "source": [
    "import pandas as pd\n",
    "from obspy import read, UTCDateTime\n",
    "import matplotlib.pyplot as plt\n",
    "from datetime import timezone\n",
    "from datetime import timedelta"
   ]
  },
  {
   "attachments": {},
   "cell_type": "markdown",
   "metadata": {},
   "source": [
    "# Fin Whales"
   ]
  },
  {
   "cell_type": "code",
   "execution_count": null,
   "metadata": {},
   "outputs": [],
   "source": [
    "df = pd.read_csv(\"/network/projects/aia/whale_call/LABELS/FW/fw_raw.csv\")"
   ]
  },
  {
   "cell_type": "code",
   "execution_count": null,
   "metadata": {},
   "outputs": [],
   "source": [
    "first = \"2020-10-29 04:10:30.000\"\n",
    "last = \"2020-10-29 04:12:30.000\""
   ]
  },
  {
   "cell_type": "code",
   "execution_count": null,
   "metadata": {},
   "outputs": [],
   "source": [
    "df[(df.time_call_start > first) & (df.time_call_end < last)].head()"
   ]
  },
  {
   "cell_type": "code",
   "execution_count": null,
   "metadata": {},
   "outputs": [],
   "source": [
    "# one_group = df[df.group_id == df.group_id.sample().values[0]]\n",
    "one_group = df[df.group_id == 2395]"
   ]
  },
  {
   "cell_type": "code",
   "execution_count": null,
   "metadata": {},
   "outputs": [],
   "source": [
    "for component in one_group.component.unique():\n",
    "\n",
    "    one_component = one_group[one_group.component == component].copy()\n",
    "    one_component['time_call_start_dt'] = pd.to_datetime(one_component.time_call_start) - timedelta(seconds=0.5)\n",
    "    one_component['time_call_end_dt'] = pd.to_datetime(one_component.time_call_end) - timedelta(seconds=0.5)\n",
    "    one_component['datetime_start_tz'] = one_component.time_call_start_dt.apply(lambda x : x.replace(tzinfo=timezone.utc))\n",
    "    one_component['datetime_end_tz'] = one_component.time_call_end_dt.apply(lambda x : x.replace(tzinfo=timezone.utc))\n",
    "\n",
    "    st = read(one_component.file_path.values[0])\n",
    "    \n",
    "    st.filter(\n",
    "            \"bandpass\", freqmin=12, freqmax=32, zerophase=True\n",
    "        )\n",
    "    \n",
    "    T0 = UTCDateTime(one_component.time_call_start.min());\n",
    "    T1= UTCDateTime(one_component.time_call_start.max());\n",
    "\n",
    "    st_sliced = st.slice(\n",
    "        starttime=T0 -20,\n",
    "        endtime=T1 +20)\n",
    "\n",
    "\n",
    "    # Create a figure and axes object\n",
    "    fig, ax = plt.subplots(1,1, figsize=(18, 3))\n",
    "\n",
    "    # Plot the cosine function\n",
    "    tr = st_sliced[0]\n",
    "    ax.plot(tr.times(\"matplotlib\"), tr.data, \"b-\")\n",
    "\n",
    "    # Plot whales detections on timeline\n",
    "    for index,row in one_component.iterrows():\n",
    "        ax.axvline(\n",
    "            x=row['datetime_start_tz'],\n",
    "            color='g',\n",
    "            label=\"whale Call\")\n",
    "        \n",
    "        ax.axvline(\n",
    "            x=row['datetime_end_tz'],\n",
    "            color='r',\n",
    "            label=\"whale Call\")\n",
    "\n",
    "    ax.set_title('Filtered SAC - Component: {}'.format(component))\n",
    "    st_sliced.spectrogram();"
   ]
  },
  {
   "attachments": {},
   "cell_type": "markdown",
   "metadata": {},
   "source": [
    "### A selected Fin Whale Detection"
   ]
  },
  {
   "cell_type": "code",
   "execution_count": null,
   "metadata": {},
   "outputs": [],
   "source": [
    "from obspy import read, UTCDateTime\n",
    "\n",
    "data_path='/network/projects/aia/whale_call/RAW/'\n",
    "station_name = 'ICQ'\n",
    "channel = 'HHN'\n",
    "call_t1 = UTCDateTime(\"20201029051032\")\n",
    "det_win = 120\n",
    "data_year = call_t1.year\n",
    "data_month = call_t1.month\n",
    "data_day = call_t1.day\n",
    "\n",
    "date_string = '%s%02d%02d'%(data_year,data_month,data_day)\n",
    "file_patterns = data_path+date_string+'/'+ '%s.%02d.%02d.CN'%(data_year,data_month,data_day)+'*'+station_name+'*Z*.SAC'\n",
    "\n",
    "st = read(data_path+date_string+\"/\"+'%s.%02d.%02d.CN'%(data_year,data_month,data_day)+\".%s..%s.SAC\"%(station_name,channel))\n",
    "# st.taper(max_percentage=0.,type='cosine')\n",
    "st.filter(\n",
    "        \"bandpass\", freqmin=12, freqmax=32, zerophase=True\n",
    "    )\n",
    "\n",
    "\n",
    "T0 = UTCDateTime(date_string);\n",
    "print(date_string)\n",
    "\n",
    "T1= st[0].meta['starttime'];\n",
    "rel_t=2*(T0-T1);\n",
    "call_t1 =call_t1-rel_t;\n",
    "call_t2 = call_t1+det_win;\n",
    "print(call_t1)\n",
    "print(call_t2)\n",
    "\n",
    "st_sliced = st.slice(starttime=call_t1,endtime=call_t2)\n",
    "st_sliced.plot()\n",
    "st_sliced.spectrogram();\n",
    "\n"
   ]
  },
  {
   "attachments": {},
   "cell_type": "markdown",
   "metadata": {},
   "source": [
    "## Visualize random samples from raw data"
   ]
  },
  {
   "attachments": {},
   "cell_type": "markdown",
   "metadata": {},
   "source": [
    "### FW Calls"
   ]
  },
  {
   "cell_type": "code",
   "execution_count": null,
   "metadata": {},
   "outputs": [],
   "source": [
    "fw_path = '/network/projects/aia/whale_call/LABELS/FW/'\n",
    "\n",
    "fw_filt = pd.read_csv(fw_path+'fw_filt.csv')"
   ]
  },
  {
   "attachments": {},
   "cell_type": "markdown",
   "metadata": {},
   "source": [
    "### Plot R value histogram"
   ]
  },
  {
   "cell_type": "code",
   "execution_count": null,
   "metadata": {},
   "outputs": [],
   "source": [
    "fig, ax = plt.subplots(1,2,figsize=(15,4))\n",
    "\n",
    "fw_filt.R.hist(bins=100,ax=ax[0])\n",
    "ax[0].set_title(\"R-index\")\n",
    "fw_filt.SNR.hist(bins=100,ax=ax[1])\n",
    "ax[1].set_title(\"SNR\")\n",
    "fig.tight_layout();"
   ]
  },
  {
   "attachments": {},
   "cell_type": "markdown",
   "metadata": {},
   "source": [
    "#### Plot X calls"
   ]
  },
  {
   "cell_type": "code",
   "execution_count": null,
   "metadata": {},
   "outputs": [],
   "source": [
    "NUMBER_OF_CALLS = 5"
   ]
  },
  {
   "cell_type": "code",
   "execution_count": null,
   "metadata": {},
   "outputs": [],
   "source": [
    "import pandas as pd\n",
    "import numpy as np\n",
    "from obspy import read, UTCDateTime\n",
    "import matplotlib.pyplot as plt\n",
    "from datetime import timedelta\n",
    "\n",
    "R0 = 5 # set up the minimum R-index value for stronger signal\n",
    "SNR0 = 10 # set up the minimum SNR value for stronger signal"
   ]
  },
  {
   "cell_type": "code",
   "execution_count": null,
   "metadata": {},
   "outputs": [],
   "source": [
    "for index,row in fw_filt[(fw_filt['R']>R0) & (fw_filt.SNR > SNR0)].sample(n=5).iterrows():\n",
    "    print(\" ============================================== {} ==============================================\".format(index))\n",
    "\n",
    "    sac_file = row['file_path']\n",
    "    t0 = UTCDateTime(row['time_window_start'])\n",
    "    t1 = UTCDateTime(row['time_window_end'])\n",
    "\n",
    "    call_end_modified = UTCDateTime(pd.to_datetime(row['time_call_end']) - timedelta(seconds=0.5))\n",
    "    call_end_original = UTCDateTime(pd.to_datetime(row['time_call_end']))\n",
    "\n",
    "    call_start_modified = UTCDateTime(pd.to_datetime(row['time_call_start']) - timedelta(seconds=0.5))\n",
    "    call_start_original = UTCDateTime(pd.to_datetime(row['time_call_start']))\n",
    "\n",
    "    st = read(sac_file)\n",
    "\n",
    "    st_sliced = st.slice(starttime=t0,endtime=t1)\n",
    "    data_len = len(st_sliced[0].data)\n",
    "    fig,ax = plt.subplots(figsize=(12,2))\n",
    "    ax.plot(np.arange(0,data_len)*0.01,st_sliced[0].data)\n",
    "    ax.axvline(x=call_start_modified-t0,color='red',label='Start modified')\n",
    "    ax.axvline(x=call_start_original-t0,color='green',label='Start original')\n",
    "    ax.axvline(x=call_end_modified-t0,color='red',label='End modified',linestyle='--')\n",
    "    ax.legend()\n",
    "    plt.plot();\n",
    "\n",
    "    st_sliced.spectrogram();"
   ]
  },
  {
   "cell_type": "code",
   "execution_count": null,
   "metadata": {},
   "outputs": [],
   "source": []
  }
 ],
 "metadata": {
  "kernelspec": {
   "display_name": "whale",
   "language": "python",
   "name": "python3"
  },
  "language_info": {
   "codemirror_mode": {
    "name": "ipython",
    "version": 3
   },
   "file_extension": ".py",
   "mimetype": "text/x-python",
   "name": "python",
   "nbconvert_exporter": "python",
   "pygments_lexer": "ipython3",
   "version": "3.9.12"
  }
 },
 "nbformat": 4,
 "nbformat_minor": 2
}
