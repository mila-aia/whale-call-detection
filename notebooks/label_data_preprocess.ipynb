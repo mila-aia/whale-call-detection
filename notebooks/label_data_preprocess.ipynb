{
 "cells": [
  {
   "attachments": {},
   "cell_type": "markdown",
   "metadata": {},
   "source": [
    "### Table of Contents\n",
    "\n",
    "This notebook contains the code to load and preprocess\n",
    "\n",
    "* [1. Load data](#loaddata)\n",
    "* [2. Reformat data](#cleandata)\n",
    "* [3. Save data](#savedata)"
   ]
  },
  {
   "attachments": {},
   "cell_type": "markdown",
   "metadata": {},
   "source": [
    "# Load data <a class=\"anchor\" id=\"loaddata\"></a>"
   ]
  },
  {
   "cell_type": "code",
   "execution_count": null,
   "metadata": {},
   "outputs": [],
   "source": [
    "from datetime import date\n",
    "from datetime import timedelta\n",
    "import numpy as np\n",
    "import pandas as pd"
   ]
  },
  {
   "cell_type": "code",
   "execution_count": null,
   "metadata": {},
   "outputs": [],
   "source": [
    "def read_stadir(mat_file,name):\n",
    "    list_stations = [name_station[0] for name_station in mat_file['stadir'][:,0]]\n",
    "    return {v+1:k for v, k in enumerate(list_stations)}"
   ]
  },
  {
   "cell_type": "code",
   "execution_count": null,
   "metadata": {},
   "outputs": [],
   "source": [
    "colnames_WC = [\n",
    "    'Datenum',\n",
    "    'station_number',\n",
    "    'R',\n",
    "    'SNR',\n",
    "    'group_index',\n",
    "    'time_start',\n",
    "    'num_calls_in_detection',\n",
    "    'detection_id']"
   ]
  },
  {
   "cell_type": "code",
   "execution_count": null,
   "metadata": {},
   "outputs": [],
   "source": [
    "import scipy.io\n",
    "# .mat file\n",
    "mat = scipy.io.loadmat('/network/projects/aia/whale_call/calls_data/WhaleDetectionsLSZ.mat')"
   ]
  },
  {
   "cell_type": "code",
   "execution_count": null,
   "metadata": {},
   "outputs": [],
   "source": [
    "# Load data\n",
    "fwc = pd.DataFrame(mat['FWC'], columns = colnames_WC)\n",
    "bwc = pd.DataFrame(mat['BWC'], columns = colnames_WC)\n",
    "stadir_fw = read_stadir(mat,'stadir')\n",
    "stadir_bw = read_stadir(mat,'stadir_bw')"
   ]
  },
  {
   "attachments": {},
   "cell_type": "markdown",
   "metadata": {},
   "source": [
    "# Clean data <a class=\"anchor\" id=\"cleandata\"></a>"
   ]
  },
  {
   "cell_type": "code",
   "execution_count": null,
   "metadata": {},
   "outputs": [],
   "source": [
    "def preprocess_(dataset,stadir):\n",
    "\n",
    "    ## Time \n",
    "    dataset['datetime'] = pd.to_datetime(dataset['Datenum']-719529, unit='D')\n",
    "    dataset['time'] = dataset['datetime'].dt.time\n",
    "    dataset['date'] = dataset['datetime'].dt.date\n",
    "    dataset['datetime_start'] = pd.to_datetime(dataset['time_start'].round(), unit='s').dt.time\n",
    "\n",
    "    ## Column types\n",
    "    integer_columns = ['num_calls_in_detection','group_index','station_number','detection_id']\n",
    "    dataset[integer_columns] = dataset[integer_columns].astype(int)\n",
    "\n",
    "    # Station number \n",
    "    dataset['station_name'] = dataset['station_number'].map(stadir)\n",
    "    \n",
    "    return dataset"
   ]
  },
  {
   "cell_type": "code",
   "execution_count": null,
   "metadata": {},
   "outputs": [],
   "source": [
    "fwc = preprocess_(fwc,stadir_fw)\n",
    "bwc = preprocess_(bwc,stadir_fw)"
   ]
  },
  {
   "cell_type": "code",
   "execution_count": null,
   "metadata": {},
   "outputs": [],
   "source": [
    "print(\"Number of Fin Whale calls detected: {}\".format(fwc.detection_id.nunique()))\n",
    "print(\"Number of Blue Whale calls detected: {}\".format(bwc.detection_id.nunique()))"
   ]
  },
  {
   "attachments": {},
   "cell_type": "markdown",
   "metadata": {},
   "source": [
    "# Save data <a class=\"anchor\" id=\"savedata\"></a>"
   ]
  },
  {
   "cell_type": "code",
   "execution_count": null,
   "metadata": {},
   "outputs": [],
   "source": [
    "fwc.to_csv('data/fwc_preprocessed.csv')\n",
    "bwc.to_csv('data/bwc_preprocessed.csv')"
   ]
  }
 ],
 "metadata": {
  "kernelspec": {
   "display_name": "Python 3",
   "language": "python",
   "name": "python3"
  },
  "language_info": {
   "codemirror_mode": {
    "name": "ipython",
    "version": 3
   },
   "file_extension": ".py",
   "mimetype": "text/x-python",
   "name": "python",
   "nbconvert_exporter": "python",
   "pygments_lexer": "ipython3",
   "version": "3.7.4"
  },
  "vscode": {
   "interpreter": {
    "hash": "6c4515b86f97ba02b1d3e740afb23c3c73c3975739805ad685934a4938588fc0"
   }
  }
 },
 "nbformat": 4,
 "nbformat_minor": 2
}
